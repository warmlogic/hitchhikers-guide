{
 "cells": [
  {
   "cell_type": "code",
   "execution_count": null,
   "metadata": {},
   "outputs": [],
   "source": [
    "## Preprocessing\n",
    "\n",
    "from sklearn.datasets import load_boston\n",
    "from sklearn.cross_validation import train_test_split\n",
    "\n",
    "boston = load_boston()\n",
    "X = boston[\"data\"]\n",
    "y = boston[\"target\"]\n",
    "X_train, X_test, y_train, y_test = train_test_split(X, y, test_size=0.33, random_state = 10)"
   ]
  },
  {
   "cell_type": "code",
   "execution_count": null,
   "metadata": {},
   "outputs": [],
   "source": [
    "## Models, Predictions, and Metrics\n",
    "\n",
    "from sklearn import linear_model\n",
    "from sklearn.ensemble import RandomForestRegressor\n",
    "\n",
    "def fit_and_score_model(model_type, hyperparameter, X_train, y_train, X_test, y_test):\n",
    "    if model_type == \"Ridge\":\n",
    "        ridge = linear_model.Ridge(alpha=hyperparameter)\n",
    "        ridge.fit(X_train, y_train)\n",
    "        return ridge.score(X_test, y_test)\n",
    "    if model_type == \"RandomForestRegressor\":\n",
    "        rf = RandomForestRegressor(n_estimators=hyperparameter)\n",
    "        rf.fit(X_train, y_train)\n",
    "        return rf.score(X_test, y_test)\n",
    "\n",
    "for alpha in range(4):\n",
    "    ridge_score = fit_and_score_model(\"Ridge\", alpha, X_train, y_train, X_test, y_test)\n",
    "    print(\"Ridge (alpha=\" + str(alpha) + \") score: \" + str(ridge_score))\n",
    "for n_estimator in [1,5,7,10]:\n",
    "    rf_score = fit_and_score_model(\"RandomForestRegressor\", n_estimator, X_train, y_train, X_test, y_test)\n",
    "    print(\"Random Forest (n_estimator=\" + str(n_estimator) + \") score: \" + str(rf_score))"
   ]
  }
 ],
 "metadata": {
  "kernelspec": {
   "display_name": "Python 3",
   "language": "python",
   "name": "python3"
  },
  "language_info": {
   "codemirror_mode": {
    "name": "ipython",
    "version": 3
   },
   "file_extension": ".py",
   "mimetype": "text/x-python",
   "name": "python",
   "nbconvert_exporter": "python",
   "pygments_lexer": "ipython3",
   "version": "3.7.1"
  }
 },
 "nbformat": 4,
 "nbformat_minor": 1
}
