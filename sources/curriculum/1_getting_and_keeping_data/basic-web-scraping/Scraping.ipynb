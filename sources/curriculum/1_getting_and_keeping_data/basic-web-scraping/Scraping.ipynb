{
 "cells": [
  {
   "cell_type": "code",
   "execution_count": null,
   "metadata": {
    "slideshow": {
     "slide_type": "skip"
    }
   },
   "outputs": [],
   "source": [
    "# Display as slides with the Jupyter notebook RISE extension\n",
    "# https://github.com/damianavila/RISE\n",
    "from notebook.services.config import ConfigManager\n",
    "cm = ConfigManager()\n",
    "cm.update('livereveal', {\n",
    "              'theme': 'sans-serif',\n",
    "              'transition': 'default',\n",
    "              'start_slideshow_at': 'selected',\n",
    "})"
   ]
  },
  {
   "cell_type": "markdown",
   "metadata": {
    "collapsed": true,
    "slideshow": {
     "slide_type": "slide"
    }
   },
   "source": [
    "# Intro to Web Scraping\n",
    "\n",
    "\n",
    "&nbsp;\n",
    "\n",
    "### Matt Bauman\n",
    "#### July 6, 2016"
   ]
  },
  {
   "cell_type": "markdown",
   "metadata": {
    "slideshow": {
     "slide_type": "slide"
    }
   },
   "source": [
    "# What is HTML?\n",
    "\n",
    "* Human *and* machine-readable text\n",
    "* Supposed to be the semantic structure of a document"
   ]
  },
  {
   "cell_type": "markdown",
   "metadata": {
    "slideshow": {
     "slide_type": "fragment"
    }
   },
   "source": [
    "* Horribly abused\n",
    "* Often terribly malformed\n",
    "* Frequently unreadable by humans and just barely readable by machines"
   ]
  },
  {
   "cell_type": "markdown",
   "metadata": {
    "slideshow": {
     "slide_type": "fragment"
    }
   },
   "source": [
    "* It's a ~~miracle~~ ton of effort that makes browsers work at all"
   ]
  },
  {
   "cell_type": "markdown",
   "metadata": {
    "slideshow": {
     "slide_type": "slide"
    }
   },
   "source": [
    "# Okay, but *what is it*?\n",
    "\n",
    "* Plain-text markup that wraps content in **tags**\n",
    "* Tags are marked in brackets like `<body>`\n",
    "* And everything that follows is considered part of `body` until it's closed with a `</body>`."
   ]
  },
  {
   "cell_type": "markdown",
   "metadata": {
    "slideshow": {
     "slide_type": "fragment"
    }
   },
   "source": [
    "* Tags can be nested\n",
    "* Can be closed immediately without enclosing any content `<div />`.\n",
    "* Can have attributes to modify their behavior or name them"
   ]
  },
  {
   "cell_type": "code",
   "execution_count": null,
   "metadata": {
    "slideshow": {
     "slide_type": "-"
    }
   },
   "outputs": [],
   "source": [
    "from IPython.core.display import display, HTML\n",
    "display(HTML('<p style=\"color:red;\">Hello, world</h1>'))"
   ]
  },
  {
   "cell_type": "code",
   "execution_count": null,
   "metadata": {
    "slideshow": {
     "slide_type": "slide"
    }
   },
   "outputs": [],
   "source": [
    "import requests\n",
    "#print(requests.get('http://www.nytimes.com/').text)"
   ]
  },
  {
   "cell_type": "markdown",
   "metadata": {
    "slideshow": {
     "slide_type": "slide"
    }
   },
   "source": [
    "# Important tags for scraping\n",
    "\n",
    "* `div` - major sections\n",
    "* `table` - broken down into `tr` (rows) and `td` (datum)\n",
    "* `form` - contains `input` tags that get submitted\n",
    "* `ul`/`ol` - lists (ordered and unordered), contains `li` (list items)"
   ]
  },
  {
   "cell_type": "markdown",
   "metadata": {
    "slideshow": {
     "slide_type": "slide"
    }
   },
   "source": [
    "# Important attributes for scraping\n",
    "\n",
    "* `id` and `class`\n",
    "* They *name* tags; web developers use these names for styling and interactivity\n",
    "* `id`s are unique; `class`es are groups"
   ]
  },
  {
   "cell_type": "markdown",
   "metadata": {
    "slideshow": {
     "slide_type": "slide"
    }
   },
   "source": [
    "# Why web scraping is terrible"
   ]
  },
  {
   "cell_type": "markdown",
   "metadata": {
    "slideshow": {
     "slide_type": "subslide"
    }
   },
   "source": [
    "### Invalid pages and incompatibilities\n",
    "\n",
    "* w3c (WWW Consortium) sets standards for HTML, CSS, XML, etc.\n",
    "* They have [a validator](https://validator.w3.org) to ensure that pages meet their specs"
   ]
  },
  {
   "cell_type": "markdown",
   "metadata": {
    "slideshow": {
     "slide_type": "subslide"
    }
   },
   "source": [
    "### HTML can be extremely hard to read\n",
    "\n",
    "* Fortunately, web inspector tools can make your life easier\n",
    "* Check out [The NY Times](http://www.nytimes.com/) in the browser"
   ]
  },
  {
   "cell_type": "markdown",
   "metadata": {
    "slideshow": {
     "slide_type": "subslide"
    }
   },
   "source": [
    "### Some sites require javascript to work\n",
    "\n",
    "* There aren't any libraries (that I'm aware of) that implement Javascript\n",
    "* Try turning off Javascript in your browser and make sure the site still works\n",
    "* You can often *emulate* the Javascript code to make the same requests... but it's a pain"
   ]
  },
  {
   "cell_type": "markdown",
   "metadata": {
    "slideshow": {
     "slide_type": "subslide"
    }
   },
   "source": [
    "### It's fragile \n",
    "\n",
    "* While the *markup* is machine readable, that just specifies page layout\n",
    "* The *same content* can be coded in HTML in an infinite number of ways and still look identical\n",
    "* Web authors can change their code at any point..."
   ]
  },
  {
   "cell_type": "markdown",
   "metadata": {
    "slideshow": {
     "slide_type": "fragment"
    }
   },
   "source": [
    "* **and still look very similar**. [An extreme example](https://web.archive.org/web/20001109144000/http://www1.nytimes.com/)"
   ]
  },
  {
   "cell_type": "markdown",
   "metadata": {
    "slideshow": {
     "slide_type": "slide"
    }
   },
   "source": [
    "# Working around the terrible-ness\n",
    "\n",
    "* Don't worry about parsing yourself -- no regexes or string searches!\n",
    "* Don't worry about traversing individual nested levels (e.g., inside two divs and ...)"
   ]
  },
  {
   "cell_type": "markdown",
   "metadata": {},
   "source": [
    "### Instead...\n",
    "\n",
    "* Think of each webpage as a \"tag soup\"\n",
    "* Try to find a way to describe the tags you're looking for in a minimal way\n",
    "* And use a good library"
   ]
  },
  {
   "cell_type": "markdown",
   "metadata": {
    "slideshow": {
     "slide_type": "slide"
    }
   },
   "source": [
    "# Scraping in five lines:"
   ]
  },
  {
   "cell_type": "code",
   "execution_count": 4,
   "metadata": {},
   "outputs": [],
   "source": [
    "# Look for headlines in the NYTimes\n",
    "import requests\n",
    "from bs4 import BeautifulSoup\n",
    "r = requests.get('http://www.nytimes.com/')\n",
    "soup = BeautifulSoup(r.text)\n",
    "tags = soup.find_all(attrs={'class': 'story-heading'})\n"
   ]
  },
  {
   "cell_type": "code",
   "execution_count": 5,
   "metadata": {
    "slideshow": {
     "slide_type": "fragment"
    }
   },
   "outputs": [],
   "source": [
    "for tag in tags: display(HTML(str(tag)))"
   ]
  },
  {
   "cell_type": "markdown",
   "metadata": {
    "collapsed": true,
    "slideshow": {
     "slide_type": "slide"
    }
   },
   "source": [
    "# Hedging your bets\n",
    "\n",
    "* There are lots of ways to specify a search through the tag soup\n",
    "* Some methods may be more robust than others...\n",
    "* But it's not worth spending too much time trying to out-wit whatever might be updating the site on the other side"
   ]
  },
  {
   "cell_type": "code",
   "execution_count": 6,
   "metadata": {},
   "outputs": [
    {
     "data": {
      "text/plain": [
       "[[<h2 class=\"css-km70tz esl82me0\">Listen to ‘The Daily’</h2>],\n",
       " [<h2 class=\"css-km70tz esl82me0\">The Daily Mini Crossword</h2>],\n",
       " [<h2 class=\"css-km70tz esl82me0\">Got a confidential news tip?</h2>],\n",
       " [<h2 class=\"css-1qwxefa esl82me0\"><span>In China, Some Fear the End of ‘Chimerica’</span></h2>],\n",
       " [<h2 class=\"css-n2blzn esl82me0\">Why the U.S.-China Trade War Could Be Long and Painful</h2>],\n",
       " [<h2 class=\"css-1qwxefa esl82me0\"><span>White House Reviews Military Plans Against Iran, in Echoes of Iraq War</span></h2>],\n",
       " [<h2 class=\"css-1qwxefa esl82me0\"><span>How House Democrats in Key Districts Plan to Keep Their Seats</span></h2>],\n",
       " [<h2 class=\"css-n2blzn esl82me0\">Elizabeth Warren refused to participate in a town hall on Fox News, which she called a “a hate-for-profit racket.”</h2>],\n",
       " [<h2 class=\"css-n2blzn esl82me0\">Beto O’Rourke tried to reset his flagging campaign, saying on “The View” that he regretted his “born to be in it” comment.</h2>],\n",
       " [<h2 class=\"css-1qwxefa esl82me0\"><span>Orban’s ‘Double Game’ on Anti-Semitism</span></h2>],\n",
       " [<h2 class=\"css-1qwxefa esl82me0\"><span>Tim Conway, Beloved TV Bumbler, Is Dead at 85</span></h2>],\n",
       " [<h2 class=\"css-14bttnj esl82me0\"><span>This Gen X Mess</span></h2>],\n",
       " [<h2 class=\"css-o2lisy esl82me0\">Don’t Visit Your Doctor in the Afternoon</h2>],\n",
       " [<h2 class=\"css-1m5bs2v esl82me0\">Supreme Court Liberals Raise Alarm Bells About Roe v. Wade</h2>],\n",
       " [<h2 class=\"css-1m5bs2v esl82me0\">This Could Be Your Legacy, Governor</h2>],\n",
       " [<h2 class=\"css-1m5bs2v esl82me0\">The Rise of the Haphazard Self</h2>],\n",
       " [<h2 class=\"css-1m5bs2v esl82me0\">How a Pristine Ecosystem Was Wrecked Almost Overnight</h2>],\n",
       " [<h2 class=\"css-1m5bs2v esl82me0\">In Baltimore, Police Officers Are the Bad Guys With Guns</h2>],\n",
       " [<h2 class=\"css-1m5bs2v esl82me0\">Twitter Isn’t Real Life (if You’re a Democrat)</h2>],\n",
       " [<h2 class=\"css-1m5bs2v esl82me0\">‘You Can’t Escape the World of Facebook’</h2>],\n",
       " [<h2 class=\"css-1m5bs2v esl82me0\">It’s Time for the Leaders of Saudi Arabia and Iran to Talk</h2>],\n",
       " [<h2 class=\"css-1m5bs2v esl82me0\">A de Gaulle of Our Own</h2>],\n",
       " [<h2 class=\"css-1m5bs2v esl82me0\">A Million Americans Need This Drug. Trump’s Deal Won’t Help Enough of Them.</h2>],\n",
       " [<h2 class=\"css-14bttnj esl82me0\"><span>The Fusion Reactor Next Door</span></h2>],\n",
       " [<h2 class=\"css-n2blzn esl82me0\">Megan Mullally and Stephanie Hunt Are Giving Cabaret a Jolt</h2>],\n",
       " [<h2 class=\"css-n2blzn esl82me0\">A New Book Argues That Generic Drugs Are Poisoning Us</h2>]]"
      ]
     },
     "execution_count": 6,
     "metadata": {},
     "output_type": "execute_result"
    }
   ],
   "source": [
    "# Another way to get the headlines\n",
    "articles = soup.find_all('article')\n",
    "import re\n",
    "[article.find_all(re.compile('^h\\d')) for article in articles]"
   ]
  },
  {
   "cell_type": "markdown",
   "metadata": {
    "slideshow": {
     "slide_type": "slide"
    }
   },
   "source": [
    "# Advanced topics: HTTP\n",
    "\n",
    "* HTTP specifies *how* you ask for and retrieve content\n",
    "* Also specifies metadata in headers that control caching, redirects, sessions, and more"
   ]
  },
  {
   "cell_type": "code",
   "execution_count": 7,
   "metadata": {},
   "outputs": [
    {
     "data": {
      "text/plain": [
       "{'Date': 'Tue, 14 May 2019 19:14:48 GMT', 'Expires': '-1', 'Cache-Control': 'private, max-age=0', 'Content-Type': 'text/html; charset=ISO-8859-1', 'P3P': 'CP=\"This is not a P3P policy! See g.co/p3phelp for more info.\"', 'Content-Encoding': 'gzip', 'Server': 'gws', 'Content-Length': '4900', 'X-XSS-Protection': '0', 'X-Frame-Options': 'SAMEORIGIN', 'Set-Cookie': '1P_JAR=2019-05-14-19; expires=Thu, 13-Jun-2019 19:14:48 GMT; path=/; domain=.google.com, NID=183=FUUJhrZssgRPnIV2AIR2bX1hnftGj3H4O_97-UaZLCwakWFN0geeMv8dUCz0adnmV-V1_Lg058gyxApxOhTe9RSBs7S3L2K2FpVGy4p3kPYndj8CU-GYoEHwPHF1SZZPRrfJBcL1GMbd0H4J-ChraOM_8ha4mkaUeLvxzgLKcbg; expires=Wed, 13-Nov-2019 19:14:48 GMT; path=/; domain=.google.com; HttpOnly'}"
      ]
     },
     "execution_count": 7,
     "metadata": {},
     "output_type": "execute_result"
    }
   ],
   "source": [
    "r = requests.get('http://google.com/')\n",
    "r.headers"
   ]
  },
  {
   "cell_type": "markdown",
   "metadata": {
    "slideshow": {
     "slide_type": "slide"
    }
   },
   "source": [
    "# Searches and forms\n",
    "\n",
    "* Typically, the most interesting things to scrape are hidden behind searches and forms\n",
    "* How do you enter text into Google's search box via Python?"
   ]
  },
  {
   "cell_type": "code",
   "execution_count": 9,
   "metadata": {
    "slideshow": {
     "slide_type": "subslide"
    }
   },
   "outputs": [
    {
     "name": "stdout",
     "output_type": "stream",
     "text": [
      "<form action=\"/search\" name=\"f\">\n",
      " <table cellpadding=\"0\" cellspacing=\"0\">\n",
      "  <tr valign=\"top\">\n",
      "   <td width=\"25%\">\n",
      "   </td>\n",
      "   <td align=\"center\" nowrap=\"\">\n",
      "    <input name=\"ie\" type=\"hidden\" value=\"ISO-8859-1\"/>\n",
      "    <input name=\"hl\" type=\"hidden\" value=\"en\"/>\n",
      "    <input name=\"source\" type=\"hidden\" value=\"hp\"/>\n",
      "    <input name=\"biw\" type=\"hidden\"/>\n",
      "    <input name=\"bih\" type=\"hidden\"/>\n",
      "    <div class=\"ds\" style=\"height:32px;margin:4px 0\">\n",
      "     <input autocomplete=\"off\" class=\"lst\" maxlength=\"2048\" name=\"q\" size=\"57\" style=\"color:#000;margin:0;padding:5px 8px 0 6px;vertical-align:top\" title=\"Google Search\" value=\"\"/>\n",
      "    </div>\n",
      "    <br style=\"line-height:0\"/>\n",
      "    <span class=\"ds\">\n",
      "     <span class=\"lsbb\">\n",
      "      <input class=\"lsb\" name=\"btnG\" type=\"submit\" value=\"Google Search\"/>\n",
      "     </span>\n",
      "    </span>\n",
      "    <span class=\"ds\">\n",
      "     <span class=\"lsbb\">\n",
      "      <input class=\"lsb\" name=\"btnI\" onclick=\"if(this.form.q.value)this.checked=1; else top.location='/doodles/'\" type=\"submit\" value=\"I'm Feeling Lucky\"/>\n",
      "     </span>\n",
      "    </span>\n",
      "   </td>\n",
      "   <td align=\"left\" class=\"fl sblc\" nowrap=\"\" width=\"25%\">\n",
      "    <a href=\"/advanced_search?hl=en&amp;authuser=0\">\n",
      "     Advanced search\n",
      "    </a>\n",
      "    <a href=\"/language_tools?hl=en&amp;authuser=0\">\n",
      "     Language tools\n",
      "    </a>\n",
      "   </td>\n",
      "  </tr>\n",
      " </table>\n",
      " <input id=\"gbv\" name=\"gbv\" type=\"hidden\" value=\"1\"/>\n",
      " <script nonce=\"fOv169/vkrRXlxafv1ykyA==\">\n",
      "  (function(){var a,b=\"1\";if(document&&document.getElementById)if(\"undefined\"!=typeof XMLHttpRequest)b=\"2\";else if(\"undefined\"!=typeof ActiveXObject){var c,d,e=[\"MSXML2.XMLHTTP.6.0\",\"MSXML2.XMLHTTP.3.0\",\"MSXML2.XMLHTTP\",\"Microsoft.XMLHTTP\"];for(c=0;d=e[c++];)try{new ActiveXObject(d),b=\"2\"}catch(h){}}a=b;if(\"2\"==a&&-1==location.search.indexOf(\"&gbv=2\")){var f=google.gbvu,g=document.getElementById(\"gbv\");g&&(g.value=a);f&&window.setTimeout(function(){location.href=f},0)};}).call(this);\n",
      " </script>\n",
      "</form>\n",
      "\n"
     ]
    }
   ],
   "source": [
    "soup = BeautifulSoup(requests.get('http://google.com').text)\n",
    "print(soup.find('form').prettify())"
   ]
  },
  {
   "cell_type": "code",
   "execution_count": 10,
   "metadata": {
    "slideshow": {
     "slide_type": "fragment"
    }
   },
   "outputs": [],
   "source": [
    "r = requests.get('http://google.com/search', \n",
    "                 params={'q':  'how long does a walrus live?',\n",
    "                         'btnI': \"I'm Feeling Lucky\"})\n"
   ]
  },
  {
   "cell_type": "markdown",
   "metadata": {
    "collapsed": true,
    "slideshow": {
     "slide_type": "slide"
    }
   },
   "source": [
    "# Types of requests\n",
    "\n",
    "* `requests.get` is actually doing a `GET`\n",
    "    * It encodes the parameters (if any) directly into the url: `?param=value&param2=value2...`\n",
    "    * This means that it gets *saved into your browser history*\n",
    "    * Back buttons, refresh may send the same parameters again"
   ]
  },
  {
   "cell_type": "markdown",
   "metadata": {
    "slideshow": {
     "slide_type": "subslide"
    }
   },
   "source": [
    "### Other HTTP verbs:\n",
    "\n",
    "* `POST` is the other most common method\n",
    "    * Just like `GET`, except that it sends its parameters hidden in a header\n",
    "    * Often used for purchases, posts, etc, that you don't want to submit twice\n",
    "* There's [others](https://en.wikipedia.org/wiki/Hypertext_Transfer_Protocol#Request_methods) (`PUT`, `DELETE`, `HEAD`, ...), but they're rarer"
   ]
  },
  {
   "cell_type": "markdown",
   "metadata": {
    "slideshow": {
     "slide_type": "slide"
    }
   },
   "source": [
    "# A slightly more complicated example\n",
    "\n",
    "* Let's look for satellites! [heavens-above.com](http://heavens-above.com)"
   ]
  },
  {
   "cell_type": "code",
   "execution_count": 11,
   "metadata": {},
   "outputs": [
    {
     "data": {
      "text/plain": [
       "['14 May 02:19:24',\n",
       " '14 May 03:55:48',\n",
       " '15 May 01:29:57',\n",
       " '15 May 03:04:56',\n",
       " '15 May 04:41:09',\n",
       " '16 May 00:40:20',\n",
       " '16 May 02:13:58',\n",
       " '16 May 03:50:22',\n",
       " '17 May 01:23:02',\n",
       " '17 May 02:59:33',\n",
       " '17 May 04:35:50',\n",
       " '17 May 21:16:59',\n",
       " '17 May 22:53:16',\n",
       " '18 May 00:31:29',\n",
       " '18 May 02:08:43',\n",
       " '18 May 03:44:55',\n",
       " '18 May 22:02:06',\n",
       " '18 May 23:40:02',\n",
       " '19 May 01:17:47',\n",
       " '19 May 02:54:03',\n",
       " '19 May 04:30:48',\n",
       " '19 May 21:11:07',\n",
       " '19 May 22:48:33',\n",
       " '20 May 00:26:41',\n",
       " '20 May 02:03:13',\n",
       " '20 May 03:39:36',\n",
       " '20 May 21:57:08',\n",
       " '20 May 23:35:24',\n",
       " '21 May 01:12:21',\n",
       " '21 May 21:05:50',\n",
       " '21 May 22:43:57',\n",
       " '22 May 00:21:25',\n",
       " '22 May 21:52:26',\n",
       " '22 May 23:30:23',\n",
       " '23 May 01:06:45',\n",
       " '23 May 21:00:56',\n",
       " '23 May 22:39:09']"
      ]
     },
     "execution_count": 11,
     "metadata": {},
     "output_type": "execute_result"
    }
   ],
   "source": [
    "# Scrape the times that the ISS is visible\n",
    "r = requests.get('http://heavens-above.com/PassSummary.aspx?satid=25544&lat=41.8781&lng=-87.6298&loc=Chicago&alt=181&tz=CST')\n",
    "def scrape_times(text):\n",
    "    soup = BeautifulSoup(text)\n",
    "    rows = soup.find_all('tr', attrs={'class':'clickableRow'})\n",
    "    times = []\n",
    "    for row in rows:\n",
    "        cols = row.find_all('td')\n",
    "        times.append(cols[0].text + ' ' + cols[2].text)\n",
    "    return times\n",
    "scrape_times(r.text)"
   ]
  },
  {
   "cell_type": "code",
   "execution_count": 18,
   "metadata": {
    "scrolled": true,
    "slideshow": {
     "slide_type": "slide"
    }
   },
   "outputs": [
    {
     "data": {
      "text/plain": [
       "['24 May 00:15:52',\n",
       " '24 May 01:52:08',\n",
       " '24 May 18:33:13',\n",
       " '24 May 20:09:31',\n",
       " '24 May 21:47:44',\n",
       " '24 May 23:24:56',\n",
       " '25 May 01:01:07',\n",
       " '25 May 02:38:38',\n",
       " '25 May 17:43:09',\n",
       " '25 May 19:18:15',\n",
       " '25 May 20:56:11',\n",
       " '25 May 22:33:55',\n",
       " '26 May 00:10:11',\n",
       " '26 May 01:46:56',\n",
       " '26 May 18:27:11',\n",
       " '26 May 20:04:38',\n",
       " '26 May 21:42:44',\n",
       " '26 May 23:19:16',\n",
       " '27 May 00:55:38',\n",
       " '27 May 17:36:24',\n",
       " '27 May 19:13:07',\n",
       " '27 May 20:51:23',\n",
       " '27 May 22:28:20',\n",
       " '28 May 00:04:32',\n",
       " '28 May 01:42:53',\n",
       " '28 May 16:45:58',\n",
       " '28 May 18:21:44',\n",
       " '28 May 19:59:51',\n",
       " '28 May 21:37:19',\n",
       " '28 May 23:13:31',\n",
       " '29 May 00:50:34',\n",
       " '29 May 15:56:24',\n",
       " '29 May 17:30:32',\n",
       " '29 May 19:08:15',\n",
       " '29 May 20:46:11',\n",
       " '29 May 22:22:33',\n",
       " '29 May 23:59:05',\n",
       " '30 May 16:39:33',\n",
       " '30 May 18:16:39',\n",
       " '30 May 19:54:52',\n",
       " '30 May 21:31:36',\n",
       " '30 May 23:07:52',\n",
       " '31 May 15:48:53',\n",
       " '31 May 17:25:10',\n",
       " '31 May 19:03:22',\n",
       " '31 May 20:40:35',\n",
       " '31 May 22:16:46',\n",
       " '31 May 23:54:15',\n",
       " '01 Jun 14:58:43',\n",
       " '01 Jun 16:33:49',\n",
       " '01 Jun 18:11:45',\n",
       " '01 Jun 19:49:29',\n",
       " '01 Jun 21:25:44',\n",
       " '01 Jun 23:02:28',\n",
       " '02 Jun 15:42:40',\n",
       " '02 Jun 17:20:06',\n",
       " '02 Jun 18:58:13',\n",
       " '02 Jun 20:34:44',\n",
       " '02 Jun 22:11:06']"
      ]
     },
     "execution_count": 18,
     "metadata": {},
     "output_type": "execute_result"
    }
   ],
   "source": [
    "# Get the next page\n",
    "r = requests.get('http://heavens-above.com/PassSummary.aspx?satid=25544&lat=41.8781&lng=-87.6298&loc=Chicago&alt=181&tz=CST')\n",
    "def get_next_page(r):\n",
    "    soup = BeautifulSoup(r.text)\n",
    "    inputs = soup.find_all('input')\n",
    "    d = {input.attrs['name']: input.attrs['value'] for input in inputs}\n",
    "    d.pop('ctl00$cph1$btnPrev')\n",
    "    d['ctl00_cph1_radioAll'] = 'radioVisible'\n",
    "    from urllib.parse import urlparse, urljoin\n",
    "    url = urljoin(r.url, soup.find('form').attrs['action'])\n",
    "    return requests.post(url, d)\n",
    "scrape_times(get_next_page(r).text)"
   ]
  },
  {
   "cell_type": "code",
   "execution_count": 21,
   "metadata": {
    "slideshow": {
     "slide_type": "slide"
    }
   },
   "outputs": [
    {
     "name": "stderr",
     "output_type": "stream",
     "text": [
      "100%|██████████| 10/10 [00:12<00:00,  1.22s/it]\n"
     ]
    },
    {
     "data": {
      "text/plain": [
       "['14 May 02:19:24',\n",
       " '14 May 03:55:48',\n",
       " '15 May 01:29:57',\n",
       " '15 May 03:04:56',\n",
       " '15 May 04:41:09',\n",
       " '16 May 00:40:20',\n",
       " '16 May 02:13:58',\n",
       " '16 May 03:50:22',\n",
       " '17 May 01:23:02',\n",
       " '17 May 02:59:33',\n",
       " '17 May 04:35:50',\n",
       " '17 May 21:16:59',\n",
       " '17 May 22:53:16',\n",
       " '18 May 00:31:29',\n",
       " '18 May 02:08:43',\n",
       " '18 May 03:44:55',\n",
       " '18 May 22:02:06',\n",
       " '18 May 23:40:02',\n",
       " '19 May 01:17:47',\n",
       " '19 May 02:54:03',\n",
       " '19 May 04:30:48',\n",
       " '19 May 21:11:07',\n",
       " '19 May 22:48:33',\n",
       " '20 May 00:26:41',\n",
       " '20 May 02:03:13',\n",
       " '20 May 03:39:36',\n",
       " '20 May 21:57:08',\n",
       " '20 May 23:35:24',\n",
       " '21 May 01:12:21',\n",
       " '21 May 21:05:50',\n",
       " '21 May 22:43:57',\n",
       " '22 May 00:21:25',\n",
       " '22 May 21:52:26',\n",
       " '22 May 23:30:23',\n",
       " '23 May 01:06:45',\n",
       " '23 May 21:00:56',\n",
       " '23 May 22:39:09',\n",
       " '24 May 00:15:52',\n",
       " '24 May 01:52:08',\n",
       " '24 May 18:33:13',\n",
       " '24 May 20:09:31',\n",
       " '24 May 21:47:44',\n",
       " '24 May 23:24:56',\n",
       " '25 May 01:01:07',\n",
       " '25 May 02:38:38',\n",
       " '25 May 17:43:09',\n",
       " '25 May 19:18:15',\n",
       " '25 May 20:56:11',\n",
       " '25 May 22:33:55',\n",
       " '26 May 00:10:11',\n",
       " '26 May 01:46:56',\n",
       " '26 May 18:27:11',\n",
       " '26 May 20:04:38',\n",
       " '26 May 21:42:44',\n",
       " '26 May 23:19:16',\n",
       " '27 May 00:55:38',\n",
       " '27 May 17:36:24',\n",
       " '27 May 19:13:07',\n",
       " '27 May 20:51:23',\n",
       " '27 May 22:28:20',\n",
       " '28 May 00:04:32',\n",
       " '28 May 01:42:53',\n",
       " '28 May 16:45:58',\n",
       " '28 May 18:21:44',\n",
       " '28 May 19:59:51',\n",
       " '28 May 21:37:19',\n",
       " '28 May 23:13:31',\n",
       " '29 May 00:50:34',\n",
       " '29 May 15:56:24',\n",
       " '29 May 17:30:32',\n",
       " '29 May 19:08:15',\n",
       " '29 May 20:46:11',\n",
       " '29 May 22:22:33',\n",
       " '29 May 23:59:05',\n",
       " '30 May 16:39:33',\n",
       " '30 May 18:16:39',\n",
       " '30 May 19:54:52',\n",
       " '30 May 21:31:36',\n",
       " '30 May 23:07:52',\n",
       " '31 May 15:48:53',\n",
       " '31 May 17:25:10',\n",
       " '31 May 19:03:22',\n",
       " '31 May 20:40:35',\n",
       " '31 May 22:16:46',\n",
       " '31 May 23:54:15',\n",
       " '01 Jun 14:58:43',\n",
       " '01 Jun 16:33:49',\n",
       " '01 Jun 18:11:45',\n",
       " '01 Jun 19:49:29',\n",
       " '01 Jun 21:25:44',\n",
       " '01 Jun 23:02:28',\n",
       " '02 Jun 15:42:40',\n",
       " '02 Jun 17:20:06',\n",
       " '02 Jun 18:58:13',\n",
       " '02 Jun 20:34:44',\n",
       " '02 Jun 22:11:06',\n",
       " '03 Jun 14:51:48',\n",
       " '03 Jun 16:28:31',\n",
       " '03 Jun 18:06:45',\n",
       " '03 Jun 19:43:42',\n",
       " '03 Jun 21:19:55',\n",
       " '03 Jun 22:58:14',\n",
       " '04 Jun 14:01:19',\n",
       " '04 Jun 15:37:03',\n",
       " '04 Jun 17:15:08',\n",
       " '04 Jun 18:52:37',\n",
       " '04 Jun 20:28:49',\n",
       " '04 Jun 22:05:50',\n",
       " '05 Jun 13:11:41',\n",
       " '05 Jun 14:45:45',\n",
       " '05 Jun 16:23:27',\n",
       " '05 Jun 18:01:24',\n",
       " '05 Jun 19:37:46',\n",
       " '05 Jun 21:14:17',\n",
       " '06 Jun 13:54:41',\n",
       " '06 Jun 15:31:47',\n",
       " '06 Jun 17:10:00',\n",
       " '06 Jun 18:46:43',\n",
       " '06 Jun 20:22:59',\n",
       " '07 Jun 13:03:57',\n",
       " '07 Jun 14:40:12',\n",
       " '07 Jun 16:18:24',\n",
       " '07 Jun 17:55:37',\n",
       " '07 Jun 19:31:48',\n",
       " '07 Jun 21:09:15',\n",
       " '08 Jun 12:13:44',\n",
       " '08 Jun 13:48:47',\n",
       " '08 Jun 15:26:42',\n",
       " '08 Jun 17:04:26',\n",
       " '08 Jun 18:40:41',\n",
       " '08 Jun 20:17:24',\n",
       " '09 Jun 12:57:34',\n",
       " '09 Jun 14:34:58',\n",
       " '09 Jun 16:13:05',\n",
       " '09 Jun 17:49:36',\n",
       " '09 Jun 19:25:58',\n",
       " '10 Jun 12:06:37',\n",
       " '10 Jun 13:43:18',\n",
       " '10 Jun 15:21:32',\n",
       " '10 Jun 16:58:30',\n",
       " '10 Jun 18:34:41',\n",
       " '10 Jun 20:12:55',\n",
       " '11 Jun 11:16:03',\n",
       " '11 Jun 12:51:44',\n",
       " '11 Jun 14:29:50',\n",
       " '11 Jun 16:07:20',\n",
       " '11 Jun 17:43:31',\n",
       " '11 Jun 19:20:31',\n",
       " '12 Jun 10:26:26',\n",
       " '12 Jun 12:00:23',\n",
       " '12 Jun 13:38:04',\n",
       " '12 Jun 15:16:01',\n",
       " '12 Jun 16:52:23',\n",
       " '12 Jun 18:28:53',\n",
       " '13 Jun 11:09:15',\n",
       " '13 Jun 12:46:18',\n",
       " '13 Jun 14:24:31',\n",
       " '13 Jun 16:01:16',\n",
       " '13 Jun 17:37:30',\n",
       " '14 Jun 10:18:27',\n",
       " '14 Jun 11:54:39',\n",
       " '14 Jun 13:32:50',\n",
       " '14 Jun 15:10:05',\n",
       " '14 Jun 16:46:15',\n",
       " '14 Jun 18:23:38',\n",
       " '15 Jun 09:28:12',\n",
       " '15 Jun 11:03:09',\n",
       " '15 Jun 12:41:03',\n",
       " '15 Jun 14:18:48',\n",
       " '15 Jun 15:55:04',\n",
       " '15 Jun 17:31:45',\n",
       " '16 Jun 10:11:52',\n",
       " '16 Jun 11:49:14',\n",
       " '16 Jun 13:27:21',\n",
       " '16 Jun 15:03:53',\n",
       " '16 Jun 16:40:14',\n",
       " '17 Jun 09:20:50',\n",
       " '17 Jun 10:57:28',\n",
       " '17 Jun 12:35:43',\n",
       " '17 Jun 14:12:42',\n",
       " '17 Jun 15:48:53',\n",
       " '17 Jun 17:26:59',\n",
       " '18 Jun 08:30:14',\n",
       " '18 Jun 10:05:51',\n",
       " '18 Jun 11:43:55',\n",
       " '18 Jun 13:21:26',\n",
       " '18 Jun 14:57:38',\n",
       " '18 Jun 16:34:35',\n",
       " '19 Jun 07:40:40',\n",
       " '19 Jun 09:14:25',\n",
       " '19 Jun 10:52:03',\n",
       " '19 Jun 12:30:02',\n",
       " '19 Jun 14:06:25',\n",
       " '19 Jun 15:42:53',\n",
       " '20 Jun 08:23:13',\n",
       " '20 Jun 10:00:14',\n",
       " '20 Jun 11:38:27',\n",
       " '20 Jun 13:15:12',\n",
       " '20 Jun 14:51:26',\n",
       " '21 Jun 07:32:22',\n",
       " '21 Jun 09:08:30',\n",
       " '21 Jun 10:46:40',\n",
       " '21 Jun 12:23:56',\n",
       " '21 Jun 14:00:06',\n",
       " '21 Jun 15:37:26',\n",
       " '22 Jun 06:42:05',\n",
       " '22 Jun 08:16:55',\n",
       " '22 Jun 09:54:47',\n",
       " '22 Jun 11:32:34',\n",
       " '22 Jun 13:08:50',\n",
       " '22 Jun 14:45:29',\n",
       " '23 Jun 07:25:34',\n",
       " '23 Jun 09:02:53',\n",
       " '23 Jun 10:41:02',\n",
       " '23 Jun 12:17:35',\n",
       " '23 Jun 13:53:54',\n",
       " '24 Jun 06:34:30',\n",
       " '24 Jun 08:11:03',\n",
       " '24 Jun 09:49:17',\n",
       " '24 Jun 11:26:19',\n",
       " '24 Jun 13:02:29',\n",
       " '24 Jun 14:40:25',\n",
       " '25 Jun 05:43:51',\n",
       " '25 Jun 07:19:22',\n",
       " '25 Jun 08:57:24',\n",
       " '25 Jun 10:34:57',\n",
       " '25 Jun 12:11:09',\n",
       " '25 Jun 13:48:02',\n",
       " '26 Jun 04:54:29',\n",
       " '26 Jun 06:27:52',\n",
       " '26 Jun 08:05:27',\n",
       " '26 Jun 09:43:27',\n",
       " '26 Jun 11:19:51',\n",
       " '26 Jun 12:56:18',\n",
       " '27 Jun 05:36:37',\n",
       " '27 Jun 07:13:33',\n",
       " '27 Jun 08:51:46',\n",
       " '27 Jun 10:28:33',\n",
       " '27 Jun 12:04:46',\n",
       " '28 Jun 04:45:43',\n",
       " '28 Jun 06:21:45',\n",
       " '28 Jun 07:59:54',\n",
       " '28 Jun 09:37:12',\n",
       " '28 Jun 11:13:22',\n",
       " '28 Jun 12:50:36',\n",
       " '29 Jun 03:55:27',\n",
       " '29 Jun 05:30:07',\n",
       " '29 Jun 07:07:56',\n",
       " '29 Jun 08:45:44',\n",
       " '29 Jun 10:22:01',\n",
       " '29 Jun 11:58:37',\n",
       " '30 Jun 04:38:42',\n",
       " '30 Jun 06:15:57',\n",
       " '30 Jun 07:54:06',\n",
       " '30 Jun 09:30:41',\n",
       " '30 Jun 11:06:58',\n",
       " '01 Jul 03:47:34',\n",
       " '01 Jul 05:24:03',\n",
       " '01 Jul 07:02:16',\n",
       " '01 Jul 08:39:19',\n",
       " '01 Jul 10:15:29',\n",
       " '01 Jul 11:53:15',\n",
       " '02 Jul 02:56:55',\n",
       " '02 Jul 04:32:18',\n",
       " '02 Jul 06:10:17',\n",
       " '02 Jul 07:47:53',\n",
       " '02 Jul 09:24:05',\n",
       " '02 Jul 11:00:55',\n",
       " '03 Jul 03:40:44',\n",
       " '03 Jul 05:18:15',\n",
       " '03 Jul 06:56:17',\n",
       " '03 Jul 08:32:42',\n",
       " '03 Jul 10:09:06',\n",
       " '04 Jul 02:49:26',\n",
       " '04 Jul 04:26:16',\n",
       " '04 Jul 06:04:29',\n",
       " '04 Jul 07:41:20',\n",
       " '04 Jul 09:17:31',\n",
       " '05 Jul 01:58:29',\n",
       " '05 Jul 03:34:24',\n",
       " '05 Jul 05:12:31',\n",
       " '05 Jul 06:49:53',\n",
       " '05 Jul 08:26:02',\n",
       " '05 Jul 10:03:11',\n",
       " '06 Jul 01:08:16',\n",
       " '06 Jul 02:42:42',\n",
       " '06 Jul 04:20:28',\n",
       " '06 Jul 05:58:19',\n",
       " '06 Jul 07:34:37',\n",
       " '06 Jul 09:11:10',\n",
       " '07 Jul 01:51:15',\n",
       " '07 Jul 03:28:25',\n",
       " '07 Jul 05:06:35',\n",
       " '07 Jul 06:43:12',\n",
       " '07 Jul 08:19:28',\n",
       " '08 Jul 01:00:05',\n",
       " '08 Jul 02:36:27',\n",
       " '08 Jul 04:14:38',\n",
       " '08 Jul 05:51:45',\n",
       " '08 Jul 07:27:55',\n",
       " '08 Jul 09:05:30',\n",
       " '09 Jul 00:09:25',\n",
       " '09 Jul 01:44:38',\n",
       " '09 Jul 03:22:34',\n",
       " '09 Jul 05:00:13',\n",
       " '09 Jul 06:36:25',\n",
       " '09 Jul 08:13:10',\n",
       " '10 Jul 00:53:01',\n",
       " '10 Jul 02:30:27',\n",
       " '10 Jul 04:08:31',\n",
       " '10 Jul 05:44:58',\n",
       " '10 Jul 07:21:20',\n",
       " '11 Jul 00:01:39',\n",
       " '11 Jul 01:38:24',\n",
       " '11 Jul 03:16:37',\n",
       " '11 Jul 04:53:30',\n",
       " '11 Jul 06:29:40',\n",
       " '11 Jul 08:08:11',\n",
       " '11 Jul 23:10:42',\n",
       " '12 Jul 00:46:28',\n",
       " '12 Jul 02:24:33',\n",
       " '12 Jul 04:01:58',\n",
       " '12 Jul 05:38:07',\n",
       " '12 Jul 07:15:09',\n",
       " '12 Jul 22:20:35',\n",
       " '13 Jul 01:32:24',\n",
       " '13 Jul 03:10:18',\n",
       " '13 Jul 04:46:38',\n",
       " '13 Jul 06:23:07',\n",
       " '13 Jul 23:03:12',\n",
       " '14 Jul 00:40:16',\n",
       " '14 Jul 02:18:27',\n",
       " '14 Jul 03:55:08',\n",
       " '14 Jul 05:31:21',\n",
       " '14 Jul 22:12:01',\n",
       " '14 Jul 23:48:14',\n",
       " '15 Jul 01:26:25',\n",
       " '15 Jul 03:03:36',\n",
       " '15 Jul 04:39:44',\n",
       " '15 Jul 06:17:09',\n",
       " '15 Jul 21:21:23',\n",
       " '15 Jul 22:56:22',\n",
       " '16 Jul 00:34:15',\n",
       " '16 Jul 02:11:57',\n",
       " '16 Jul 03:48:10',\n",
       " '16 Jul 05:24:51',\n",
       " '16 Jul 22:04:41',\n",
       " '16 Jul 23:42:03',\n",
       " '17 Jul 01:20:09',\n",
       " '17 Jul 02:56:39',\n",
       " '17 Jul 04:32:57',\n",
       " '17 Jul 21:13:19',\n",
       " '17 Jul 22:49:56',\n",
       " '18 Jul 00:28:09',\n",
       " '18 Jul 02:05:06',\n",
       " '18 Jul 03:41:15',\n",
       " '18 Jul 05:19:20',\n",
       " '18 Jul 20:22:21',\n",
       " '18 Jul 21:57:56',\n",
       " '18 Jul 23:35:58',\n",
       " '19 Jul 01:13:28',\n",
       " '19 Jul 02:49:37',\n",
       " '19 Jul 04:26:33',\n",
       " '19 Jul 19:32:30',\n",
       " '19 Jul 21:06:08',\n",
       " '19 Jul 22:43:44',\n",
       " '20 Jul 00:21:42',\n",
       " '20 Jul 01:58:03',\n",
       " '20 Jul 03:34:29',\n",
       " '20 Jul 20:14:35',\n",
       " '20 Jul 21:51:32',\n",
       " '20 Jul 23:29:44',\n",
       " '21 Jul 01:06:29',\n",
       " '21 Jul 02:42:40',\n",
       " '21 Jul 19:23:23',\n",
       " '21 Jul 20:59:27',\n",
       " '21 Jul 22:37:35',\n",
       " '22 Jul 00:14:51',\n",
       " '22 Jul 01:50:58',\n",
       " '22 Jul 03:28:14',\n",
       " '22 Jul 18:32:48',\n",
       " '22 Jul 20:07:31',\n",
       " '22 Jul 21:45:20',\n",
       " '22 Jul 23:23:06',\n",
       " '23 Jul 00:59:21',\n",
       " '23 Jul 02:35:56',\n",
       " '23 Jul 19:15:48',\n",
       " '23 Jul 20:53:03',\n",
       " '23 Jul 22:31:11',\n",
       " '24 Jul 00:07:44',\n",
       " '24 Jul 01:44:00',\n",
       " '24 Jul 18:24:24',\n",
       " '24 Jul 20:00:52',\n",
       " '24 Jul 21:39:04',\n",
       " '24 Jul 23:16:05',\n",
       " '25 Jul 00:52:14',\n",
       " '25 Jul 02:30:01',\n",
       " '25 Jul 17:33:28',\n",
       " '25 Jul 19:08:49',\n",
       " '25 Jul 20:46:48',\n",
       " '25 Jul 22:24:22',\n",
       " '26 Jul 00:00:32',\n",
       " '26 Jul 01:37:21',\n",
       " '26 Jul 18:16:58',\n",
       " '26 Jul 19:54:29',\n",
       " '26 Jul 21:32:29',\n",
       " '26 Jul 23:08:53',\n",
       " '27 Jul 00:45:16',\n",
       " '27 Jul 17:25:23',\n",
       " '27 Jul 19:02:12',\n",
       " '27 Jul 20:40:25',\n",
       " '27 Jul 22:17:13',\n",
       " '27 Jul 23:53:23',\n",
       " '28 Jul 16:34:11',\n",
       " '28 Jul 18:10:03',\n",
       " '28 Jul 19:48:09',\n",
       " '28 Jul 21:25:30',\n",
       " '28 Jul 23:01:38',\n",
       " '29 Jul 00:38:44',\n",
       " '29 Jul 15:43:44',\n",
       " '29 Jul 17:18:05',\n",
       " '29 Jul 18:55:48',\n",
       " '29 Jul 20:33:39',\n",
       " '29 Jul 22:09:56',\n",
       " '29 Jul 23:46:27',\n",
       " '30 Jul 16:26:20',\n",
       " '30 Jul 18:03:27',\n",
       " '30 Jul 19:41:37',\n",
       " '30 Jul 21:18:14',\n",
       " '30 Jul 22:54:28',\n",
       " '31 Jul 15:34:55',\n",
       " '31 Jul 17:11:12',\n",
       " '31 Jul 18:49:23',\n",
       " '31 Jul 20:26:31',\n",
       " '31 Jul 22:02:38',\n",
       " '31 Jul 23:40:08',\n",
       " '01 Aug 14:44:02',\n",
       " '01 Aug 16:19:07',\n",
       " '01 Aug 17:57:01',\n",
       " '01 Aug 19:34:41',\n",
       " '01 Aug 21:10:52',\n",
       " '01 Aug 22:47:34',\n",
       " '02 Aug 15:27:13',\n",
       " '02 Aug 17:04:37',\n",
       " '02 Aug 18:42:41',\n",
       " '02 Aug 20:19:08',\n",
       " '02 Aug 21:55:27',\n",
       " '03 Aug 14:35:37',\n",
       " '03 Aug 16:12:16',\n",
       " '03 Aug 17:50:29',\n",
       " '03 Aug 19:27:23',\n",
       " '03 Aug 21:03:31',\n",
       " '03 Aug 22:41:46',\n",
       " '04 Aug 13:44:26',\n",
       " '04 Aug 15:20:04',\n",
       " '04 Aug 16:58:07',\n",
       " '04 Aug 18:35:34',\n",
       " '04 Aug 20:11:42',\n",
       " '04 Aug 21:48:39',\n",
       " '05 Aug 12:54:16',\n",
       " '05 Aug 14:28:04',\n",
       " '05 Aug 16:05:40',\n",
       " '05 Aug 17:43:36',\n",
       " '05 Aug 19:19:56',\n",
       " '05 Aug 20:56:22',\n",
       " '06 Aug 13:36:18',\n",
       " '06 Aug 15:13:15',\n",
       " '06 Aug 16:51:27',\n",
       " '06 Aug 18:28:09',\n",
       " '06 Aug 20:04:20',\n",
       " '07 Aug 12:44:52',\n",
       " '07 Aug 14:20:57',\n",
       " '07 Aug 15:59:05',\n",
       " '07 Aug 17:36:19',\n",
       " '07 Aug 19:12:26',\n",
       " '07 Aug 20:49:43',\n",
       " '08 Aug 11:54:05',\n",
       " '08 Aug 13:28:48',\n",
       " '08 Aug 15:06:37',\n",
       " '08 Aug 16:44:23',\n",
       " '08 Aug 18:20:37',\n",
       " '08 Aug 19:57:12',\n",
       " '09 Aug 12:36:53',\n",
       " '09 Aug 14:14:09',\n",
       " '09 Aug 15:52:16',\n",
       " '09 Aug 17:28:48',\n",
       " '09 Aug 19:05:03',\n",
       " '10 Aug 11:45:17',\n",
       " '10 Aug 13:21:45',\n",
       " '10 Aug 14:59:56',\n",
       " '10 Aug 16:36:57',\n",
       " '10 Aug 18:13:05',\n",
       " '10 Aug 19:50:52',\n",
       " '11 Aug 10:54:09',\n",
       " '11 Aug 12:29:30',\n",
       " '11 Aug 14:07:28',\n",
       " '11 Aug 15:45:01',\n",
       " '11 Aug 17:21:11',\n",
       " '11 Aug 18:57:59',\n",
       " '12 Aug 11:37:27',\n",
       " '12 Aug 13:14:57',\n",
       " '12 Aug 14:52:56',\n",
       " '12 Aug 16:29:20',\n",
       " '12 Aug 18:05:41',\n",
       " '13 Aug 10:45:40',\n",
       " '13 Aug 12:22:27',\n",
       " '13 Aug 14:00:39',\n",
       " '13 Aug 15:37:28',\n",
       " '13 Aug 17:13:37',\n",
       " '14 Aug 09:54:16',\n",
       " '14 Aug 11:30:06',\n",
       " '14 Aug 13:08:11',\n",
       " '14 Aug 14:45:32',\n",
       " '14 Aug 16:21:40',\n",
       " '14 Aug 17:58:44',\n",
       " '15 Aug 09:03:40',\n",
       " '15 Aug 10:37:56',\n",
       " '15 Aug 12:15:38',\n",
       " '15 Aug 13:53:29',\n",
       " '15 Aug 15:29:45',\n",
       " '15 Aug 17:06:14',\n",
       " '16 Aug 09:45:59',\n",
       " '16 Aug 11:23:05',\n",
       " '16 Aug 13:01:14',\n",
       " '16 Aug 14:37:52',\n",
       " '16 Aug 16:14:04',\n",
       " '17 Aug 08:54:23',\n",
       " '17 Aug 10:30:37',\n",
       " '17 Aug 12:08:47',\n",
       " '17 Aug 13:45:55',\n",
       " '17 Aug 15:22:02',\n",
       " '17 Aug 16:59:29',\n",
       " '18 Aug 08:03:20',\n",
       " '18 Aug 09:38:20',\n",
       " '18 Aug 11:16:12',\n",
       " '18 Aug 12:53:53',\n",
       " '18 Aug 14:30:05',\n",
       " '18 Aug 16:06:45',\n",
       " '19 Aug 08:46:16',\n",
       " '19 Aug 10:23:36',\n",
       " '19 Aug 12:01:41',\n",
       " '19 Aug 13:38:09',\n",
       " '19 Aug 15:14:26',\n",
       " '20 Aug 07:54:29',\n",
       " '20 Aug 09:31:04',\n",
       " '20 Aug 11:09:16',\n",
       " '20 Aug 12:46:11',\n",
       " '20 Aug 14:22:19',\n",
       " '20 Aug 16:00:23',\n",
       " '21 Aug 07:03:08',\n",
       " '21 Aug 08:38:40',\n",
       " '21 Aug 10:16:40',\n",
       " '21 Aug 11:54:10',\n",
       " '21 Aug 13:30:18',\n",
       " '21 Aug 15:07:10']"
      ]
     },
     "execution_count": 21,
     "metadata": {},
     "output_type": "execute_result"
    }
   ],
   "source": [
    "# Get the next 10 pages!\n",
    "from tqdm import tqdm\n",
    "r = requests.get('http://heavens-above.com/PassSummary.aspx?satid=25544&lat=41.8781&lng=-87.6298&loc=Chicago&alt=181&tz=CST')\n",
    "\n",
    "times = []\n",
    "for i in tqdm(range(10)):\n",
    "    times.extend(scrape_times(r.text))\n",
    "    r = get_next_page(r)\n",
    "times"
   ]
  },
  {
   "cell_type": "code",
   "execution_count": null,
   "metadata": {},
   "outputs": [],
   "source": []
  }
 ],
 "metadata": {
  "celltoolbar": "Slideshow",
  "kernelspec": {
   "display_name": "Python 3",
   "language": "python",
   "name": "python3"
  },
  "language_info": {
   "codemirror_mode": {
    "name": "ipython",
    "version": 3
   },
   "file_extension": ".py",
   "mimetype": "text/x-python",
   "name": "python",
   "nbconvert_exporter": "python",
   "pygments_lexer": "ipython3",
   "version": "3.7.1"
  }
 },
 "nbformat": 4,
 "nbformat_minor": 1
}
