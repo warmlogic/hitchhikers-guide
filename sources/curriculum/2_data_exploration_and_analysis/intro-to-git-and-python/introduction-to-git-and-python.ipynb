{
 "cells": [
  {
   "cell_type": "markdown",
   "metadata": {},
   "source": [
    "# Intro to Git and Python\n",
    "----\n",
    "\n"
   ]
  },
  {
   "cell_type": "markdown",
   "metadata": {},
   "source": [
    "## Table of Contents\n",
    "1. [Introduction](#introduction)\n",
    "2. [Git](#git)\n",
    "  - [Setup](#git-setup)\n",
    "  - [Basic Git Structure](#basic-git-structure)\n",
    "  - [Working with Git](#working-with-git)\n",
    "3. [Python](#python)\n",
    "  - [Python Setup](#python-setup)\n",
    "  - [Data Basics](#data-basics)\n",
    "  - [Loading Data](#loading-data)\n",
    "  - [Understanding the Data](#understanding-the-data)\n",
    "  - [Massaging the Data](#massaging-the-data)\n",
    "  - [Saving Results](#saving-results)\n",
    "4. [Exercises](#exercises)\n",
    "5. [Resources](#resources)\n"
   ]
  },
  {
   "cell_type": "markdown",
   "metadata": {},
   "source": [
    "## Introduction \n",
    "This course is a practical introduction to the methods and tools that the social scientist can use to make sense of big data, and thus programming resources are also important. We make extensive use of the Python programming language and SQL database management. We recommend that any social scientist who aspires to work with large datasets become proficient in the use of these two systems as well as Github. All three, fortunately, are quite accessible and supported by excellent online resources. "
   ]
  },
  {
   "cell_type": "markdown",
   "metadata": {},
   "source": [
    "### Git\n",
    "---\n",
    "- Back to [Table of Contents](#table-of-contents)\n",
    "\n",
    "\n",
    "** Why version control?** \n",
    "Version control is like a lab notebook for your digital projects. It enables you and your collaborators to work on a project simultaneously, rather than waiting for someone else to make edits before you can add yours, or poring over every line to try to assimilate changes from multiple editors. It allows you to return to previous versions of documents, like an \"undo\" button. It allows you to free your file system of names like `paper_final_FINAL_JZ_edits.doc` without fear that your work will be lost, overwritten, or duplicated. Version control is also useful to keep track of what you've done and when on your own research projects; if, in a year's time, you discover an error in your analysis, or want to investigate or change your process in any way, Future You will be grateful to have a record of what you did and when. \n",
    "\n",
    "[GitHub](http://github.com) is one common service that hosts projects using the Git system of version control; in this class, we will be using [GitLab](https://about.gitlab.com). \n",
    "\n",
    "The Git section of this tutorial is based on the [Software Carpentry version control tutorial](https://swcarpentry.github.io/git-novice/)."
   ]
  },
  {
   "cell_type": "markdown",
   "metadata": {},
   "source": [
    "### Git Setup\n",
    "You should have a [Gitlab account](https://gitlab.cusp.nyu.edu/) and be able to access the yellow environment (?). "
   ]
  },
  {
   "cell_type": "markdown",
   "metadata": {},
   "source": [
    "### Basic Git Structure \n",
    "- Repositories and branches \n",
    "- Examples of well structured repos"
   ]
  },
  {
   "cell_type": "markdown",
   "metadata": {},
   "source": [
    "### Working with Git\n",
    "- Workflow (working directory, index, HEAD)\n",
    "- git add & git commit, commit messages\n",
    "- branching (checkout, branching, pull requests, branch creation & deletion)\n",
    "- update & merge (pull, merge, diff, push) (following basic tutorial)\n",
    "- .gitignore (leave data & passwords out of the repository) "
   ]
  },
  {
   "cell_type": "markdown",
   "metadata": {},
   "source": [
    "## Python\n",
    "---\n",
    "- Back to [Table of Contents](#table-of-contents)\n",
    "\n",
    "Why Python instead of SAS, STATA, etc? Reproducibility, open source software.\n",
    "\n",
    "- Writing & running Python code: Notebooks vs. scripts, text editors.\n",
    "- Declaring and assigning values to variables\n",
    "- Data structures: tuples and lists, dictionaries and sets\n",
    "- Logic and control flow: if-then-else and conditional operators, iteration and loops (for, while)\n",
    "- Optional Extensions: Writing your own Functions \n",
    "- Data Analysis & Pandas: Designed to familiarize students with available datasets as well as demonstrate how to explore datasets using Pandas. Data should be selected & subsetted into a manageable size (within the notebook) so students can see the process. \n",
    "- Importing packages and modules\n",
    "- Connecting to database (psycopg2) (students should have read but not write access to DB)\n",
    "- Using Pandas to explore and understand data: working with dataframes, getting dimensions and columns, summary statistics, subsetting, groupbys, handling missing values\n",
    "- Making basic plots (matplotlib)\n",
    "\n",
    "Before coming to class, you should have completed the [DataCamp Intro to Python for Data Science](https://www.datacamp.com/courses/intro-to-python-for-data-science) course. It is free and takes about four hours. \n"
   ]
  },
  {
   "cell_type": "markdown",
   "metadata": {},
   "source": [
    "### Python Setup"
   ]
  },
  {
   "cell_type": "markdown",
   "metadata": {},
   "source": [
    "We `import` packages. \n",
    "- What are numpy, pandas, sql_alchemy, why do we use them? "
   ]
  },
  {
   "cell_type": "code",
   "execution_count": null,
   "metadata": {
    "collapsed": true
   },
   "outputs": [],
   "source": [
    "import numpy\n",
    "import pandas\n",
    "import psycopg2\n",
    "%matplotlib inline"
   ]
  },
  {
   "cell_type": "markdown",
   "metadata": {},
   "source": [
    "### Data Basics\n",
    "- Information about the data that we're using: where did it come from, what variables are present?\n",
    "- How to connect to the database"
   ]
  },
  {
   "cell_type": "markdown",
   "metadata": {},
   "source": [
    "In this lesson, we'll be using the [pandas package](http://pandas.pydata.org/) to read in and manipulate data. `pandas` reads data from the PostGreSQL database and stores the data in special table format called a \"data frame,\" which will be a more familiar format if you are used to using R or STATA for data analysis. Dataframes allow for easy statistical analysis and can be directly used for machine learning. `pandas` uses a database engine to connect to databases. \n",
    "\n",
    "In the code cell below, we'll use `psycopg2` to connect to the database. Replace `your_db_name_here` with the name of the class database, then run the cell."
   ]
  },
  {
   "cell_type": "code",
   "execution_count": null,
   "metadata": {
    "collapsed": true
   },
   "outputs": [],
   "source": [
    "db_name = \"your_db_name_here\" \n",
    "pgsql_connection - psycopg2.connect( database = db_name )"
   ]
  },
  {
   "cell_type": "markdown",
   "metadata": {},
   "source": [
    "### Loading Data\n",
    "Next, we will use this database connection to have tell `pandas` where to retrieve the data. `pandas` has a set of [Input/Output tools](http://pandas.pydata.org/pandas-docs/stable/io.html) that let it read from and write to a large variety of tabular data formats, including CSV and Excel files, databases via SQL, JSON files, and even SAS and Stata data files. In the example below, we'll use the `pandas.read_sql()` function to read the results of an SQL query into a data frame.\n",
    "\n",
    "- We will change this query to only select the dataset that we want "
   ]
  },
  {
   "cell_type": "code",
   "execution_count": null,
   "metadata": {
    "collapsed": true
   },
   "outputs": [],
   "source": [
    "data_frame = pandas.read_sql( 'SELECT * FROM table;' db_name)"
   ]
  },
  {
   "cell_type": "markdown",
   "metadata": {},
   "source": [
    "Now, let's look at what the data looks like. The pandas.DataFrame method 'data_frame.head( number_of_rows )' outputs the first number_of_rows rows in a data frame. Let's look at the first five rows in our data.\n",
    "In the code cell below, there are two ways to output this information. If you just call the method, you'll get an HTML table output directly into the ipython notebook. If you pass the results of the method to the \"print()\" function, you'll get text output that works outside of jupyter/ipython."
   ]
  },
  {
   "cell_type": "code",
   "execution_count": null,
   "metadata": {
    "collapsed": true
   },
   "outputs": [],
   "source": [
    "# to get a pretty tabular view, just call the method.\n",
    "data_frame.head( 5 )\n",
    "\n",
    "# to get a text-based view, print() the call to the method.\n",
    "#print( data_frame.head( 5 ) )"
   ]
  },
  {
   "cell_type": "markdown",
   "metadata": {},
   "source": [
    "### Understanding the Data \n",
    "In `pandas`, our data is represented by a `DataFrame`. You can think of data frames as a giant spreadsheet which you can program, with the data for each column stored in its own list that `pandas` calls a `Series` (or vector of values), along with a set of methods (another name for functions that are tied to objects) that make managing data in pandas easy.\n",
    "\n",
    "A `Series` is a list of values each of which can also have a label, which `pandas` calls an `index`, and which generally is used to store names of columns when you retrieve a `Series` that represents a row, and IDs of rows when you retrieve a `Series` that represents a column of data in a table.\n",
    "\n",
    "While `DataFrames` and `Series` are separate objects, they may share the same methods where those methods make sense in both a table and list context (head() and tail(), as used in examples in this notebook, for example).\n",
    "More details on `pandas` data structures:\n",
    "- [Data Structures Overview](http://pandas.pydata.org/pandas-docs/stable/dsintro.html)\n",
    "- [Series specifics](http://pandas.pydata.org/pandas-docs/stable/dsintro.html#series)\n",
    "- [DataFrame specifics](http://pandas.pydata.org/pandas-docs/stable/dsintro.html#dataframe)"
   ]
  },
  {
   "cell_type": "code",
   "execution_count": null,
   "metadata": {
    "collapsed": true
   },
   "outputs": [],
   "source": [
    "# get vector of \"ORG_DEPT\" column values from data frame\n",
    "org_dept_column_series = data_frame[ \"ORG_DEPT\" ]\n",
    "\n",
    "# see the last 5 values in the vector.\n",
    "print( org_dept_column_series.tail( 5 ) )\n",
    "\n",
    "# It is also OK to chain together, but I did not above for clarity's sake, and in\n",
    "#    general, be wary of doing too many things on one line.\n",
    "# data_frame[ \"ORG_DEPT\" ].tail( 5 )\n",
    "\n",
    "# empty org_dept_column_series variable and garbage collect, to conserve memory\n",
    "org_dept_column_series = None\n",
    "gc.collect()"
   ]
  },
  {
   "cell_type": "code",
   "execution_count": null,
   "metadata": {
    "collapsed": true
   },
   "outputs": [],
   "source": [
    "data_frame.dtypes"
   ]
  },
  {
   "cell_type": "markdown",
   "metadata": {},
   "source": [
    "### Descriptive Statistics\n",
    "Pandas provides some [great functions for descriptive statistics](http://pandas.pydata.org/pandas-docs/stable/basics.html#descriptive-statistics). Some examples:\n",
    "\n",
    "- **`describe()`** - \"computes a variety of summary statistics about a Series or the columns of a DataFrame (excluding NAs of course)\" ( See [documentation](http://pandas.pydata.org/pandas-docs/stable/basics.html#summarizing-data-describe))\n",
    "\n",
    "    - includes the count of values, mean, standard deviation, min, 25%, 50%, and 75% values, and the max.\n",
    "\n",
    "- **`head()` and `tail()`**, shown above - \"To view a small sample of a Series or DataFrame object, use the `head()` and `tail()` methods. The default number of elements to display is five, but you may pass a custom number.\" ( See [documentation](http://pandas.pydata.org/pandas-docs/stable/basics.html#head-and-tail).\n",
    "- **`value_counts()`** - The `value_counts()` \"series method and top-level function computes a histogram of a one-dimensional array of values.\" ( See [documentation](http://pandas.pydata.org/pandas-docs/stable/basics.html#value-counts-histogramming-mode) ).  This method returns a Series of the counts of the number of times each unique value in the column is present in the column (also known as frequencies), from largest count to least, with the value itself the label for each row."
   ]
  },
  {
   "cell_type": "markdown",
   "metadata": {},
   "source": [
    "### Massaging Data\n",
    "- How do we go from the original dataset to a \"model matrix\" with one observation per line? \n",
    "- Subsetting, groupbys\n",
    "\n"
   ]
  },
  {
   "cell_type": "markdown",
   "metadata": {},
   "source": [
    "### Saving Results\n",
    "- `pandas.write_csv`"
   ]
  },
  {
   "cell_type": "markdown",
   "metadata": {},
   "source": [
    "## Exercises \n",
    "---\n",
    "- Back to [Table of Contents](#table-of-contents)\n",
    "\n",
    "\n",
    "- Now you and your teammates make a repo for your project, add some Python scripts or notebooks, make sure you can all work within it.\n",
    "- *Optional advanced exercise*: Read in some crappy CSV with weird unicode "
   ]
  },
  {
   "cell_type": "markdown",
   "metadata": {},
   "source": [
    "## Resources\n",
    "- Back to [Table of Contents](#table-of-contents)\n",
    "\n",
    "- Alex Bell's [Python for Economists](http://www.alexmbell.com/python-tutorial-for-economists/) provides a wonderful 30-page introduction to the use of Python in the social sciences, complete with XKCD cartoons. \n",
    "- Economists Tom Sargent and John Stachurski provide a [very useful set of lectures and examples]\n",
    "- For more detail, we recommend Charles Severance's [Python for Informatics: Exploring Information](http://www.pythonlearn.com/book_007.pdf)\n",
    "- [Software Carpentry version control tutorial](https://swcarpentry.github.io/git-novice/)\n"
   ]
  }
 ],
 "metadata": {
  "anaconda-cloud": {},
  "kernelspec": {
   "display_name": "Python [conda root]",
   "language": "python",
   "name": "conda-root-py"
  },
  "language_info": {
   "codemirror_mode": {
    "name": "ipython",
    "version": 2
   },
   "file_extension": ".py",
   "mimetype": "text/x-python",
   "name": "python",
   "nbconvert_exporter": "python",
   "pygments_lexer": "ipython2",
   "version": "2.7.12"
  }
 },
 "nbformat": 4,
 "nbformat_minor": 1
}
