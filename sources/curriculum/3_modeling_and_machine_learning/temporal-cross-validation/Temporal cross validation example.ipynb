{
 "cells": [
  {
   "cell_type": "code",
   "execution_count": 1,
   "metadata": {},
   "outputs": [],
   "source": [
    "from datetime import date, datetime, timedelta\n",
    "from dateutil.relativedelta import relativedelta\n",
    "\n",
    "import pandas as pd\n",
    "from sklearn.linear_model import LogisticRegression"
   ]
  },
  {
   "cell_type": "markdown",
   "metadata": {},
   "source": [
    "Here's the shell for a simple temporal cross validation loop. It's based on Rayid's [magicloops](https://github.com/rayidghani/magicloops/blob/master/temporal_validate.py).\n",
    "\n",
    "First, we must set some parameters:"
   ]
  },
  {
   "cell_type": "code",
   "execution_count": 2,
   "metadata": {},
   "outputs": [],
   "source": [
    "# start time of our data\n",
    "start_time = datetime.strptime('2018-01-01', '%Y-%m-%d')\n",
    "\n",
    "# last date of data including labels\n",
    "# (this past Sunday!)\n",
    "end_time = datetime.strptime('2018-06-30', '%Y-%m-%d')\n",
    "\n",
    "# how far ahead we're predicting, e.g. '1' means the label \n",
    "# takes a 1 if an event takes place in the next month\n",
    "# and a 0 otherwise\n",
    "# unit: months\n",
    "prediction_windows = [1]\n",
    "\n",
    "# how often should we score?\n",
    "# e.g. police might predict a year ahead (prediction window) every day (update window)\n",
    "# unit: months\n",
    "update_window = 1"
   ]
  },
  {
   "cell_type": "code",
   "execution_count": 3,
   "metadata": {},
   "outputs": [
    {
     "data": {
      "text/html": [
       "<div>\n",
       "<style scoped>\n",
       "    .dataframe tbody tr th:only-of-type {\n",
       "        vertical-align: middle;\n",
       "    }\n",
       "\n",
       "    .dataframe tbody tr th {\n",
       "        vertical-align: top;\n",
       "    }\n",
       "\n",
       "    .dataframe thead th {\n",
       "        text-align: right;\n",
       "    }\n",
       "</style>\n",
       "<table border=\"1\" class=\"dataframe\">\n",
       "  <thead>\n",
       "    <tr style=\"text-align: right;\">\n",
       "      <th></th>\n",
       "      <th>entity</th>\n",
       "      <th>jail_entry</th>\n",
       "    </tr>\n",
       "  </thead>\n",
       "  <tbody>\n",
       "    <tr>\n",
       "      <th>0</th>\n",
       "      <td>A</td>\n",
       "      <td>1/1/18</td>\n",
       "    </tr>\n",
       "    <tr>\n",
       "      <th>1</th>\n",
       "      <td>A</td>\n",
       "      <td>1/23/18</td>\n",
       "    </tr>\n",
       "    <tr>\n",
       "      <th>2</th>\n",
       "      <td>A</td>\n",
       "      <td>4/16/18</td>\n",
       "    </tr>\n",
       "    <tr>\n",
       "      <th>3</th>\n",
       "      <td>B</td>\n",
       "      <td>2/2/18</td>\n",
       "    </tr>\n",
       "    <tr>\n",
       "      <th>4</th>\n",
       "      <td>C</td>\n",
       "      <td>5/6/18</td>\n",
       "    </tr>\n",
       "    <tr>\n",
       "      <th>5</th>\n",
       "      <td>C</td>\n",
       "      <td>6/1/18</td>\n",
       "    </tr>\n",
       "    <tr>\n",
       "      <th>6</th>\n",
       "      <td>D</td>\n",
       "      <td>3/1/18</td>\n",
       "    </tr>\n",
       "  </tbody>\n",
       "</table>\n",
       "</div>"
      ],
      "text/plain": [
       "  entity jail_entry\n",
       "0      A     1/1/18\n",
       "1      A    1/23/18\n",
       "2      A    4/16/18\n",
       "3      B     2/2/18\n",
       "4      C     5/6/18\n",
       "5      C     6/1/18\n",
       "6      D     3/1/18"
      ]
     },
     "execution_count": 3,
     "metadata": {},
     "output_type": "execute_result"
    }
   ],
   "source": [
    "df = pd.read_csv('temporal_CV.csv')\n",
    "df"
   ]
  },
  {
   "cell_type": "markdown",
   "metadata": {},
   "source": [
    "#### convert to date format"
   ]
  },
  {
   "cell_type": "code",
   "execution_count": 4,
   "metadata": {},
   "outputs": [],
   "source": [
    "df['jail_entry'] = pd.to_datetime(df['jail_entry'], format = '%m/%d/%y')"
   ]
  },
  {
   "cell_type": "markdown",
   "metadata": {},
   "source": [
    "#### Dataframe for storing results"
   ]
  },
  {
   "cell_type": "code",
   "execution_count": 5,
   "metadata": {},
   "outputs": [],
   "source": [
    "results = pd.DataFrame(columns=['train_features_start_time', 'train_features_end_time', \n",
    "                                'train_label_start_time', 'train_label_end_time', \n",
    "                                'test_features_start_time', 'test_features_end_time',\n",
    "                                'test__label_start_time', 'test_label_end_time', \n",
    "                                'accuracy'])"
   ]
  },
  {
   "cell_type": "code",
   "execution_count": null,
   "metadata": {},
   "outputs": [],
   "source": [
    "# the last test labels extend to the end of our data\n",
    "test_label_end_time = end_time\n",
    "\n",
    "for prediction_window in prediction_windows:\n",
    "    \n",
    "    # we'll start at the end to ensure the \"freshest\" possible data.\n",
    "    # keep looping backward until there isn't enough time for two\n",
    "    # prediction windows. (Remember, the train and test prediction\n",
    "    # windows cannot overlap.)\n",
    "    while (test_label_end_time >= start_time + 2 * relativedelta(months=+prediction_window)):\n",
    "        \n",
    "        # the prediction window equals the time between the start and end of the test label \n",
    "        test_label_start_time = test_label_end_time - relativedelta(months=+prediction_window)\n",
    "        \n",
    "        # the end of the train label window and test features window should precede the beginning of the test label window\n",
    "        train_label_end_time = test_features_end_time = test_label_start_time - relativedelta(days=+1) \n",
    "        \n",
    "        # the prediction window also equals the time between the start and end of the train label \n",
    "        train_label_start_time = train_label_end_time - relativedelta(months=+prediction_window)\n",
    "        \n",
    "        # the end of the train features should precede the beginning of the train labels\n",
    "        train_features_end_time = train_label_start_time - relativedelta(days=+1)\n",
    "        \n",
    "        # for this example, we'll use all the data back to start_date\n",
    "        train_features_start_time = test_features_start_time = start_time\n",
    "        \n",
    "        # only run if there's enough data for a full train label window\n",
    "        while (train_label_start_time >= start_time):\n",
    "            \n",
    "            #train_label_start_time -= relativedelta(months=+prediction_window)\n",
    "            \n",
    "            # It's safer to split the data then generate features and labels\n",
    "            raw_train_X = df[(df.jail_entry >= train_features_start_time) & (df.jail_entry <= train_features_end_time)]\n",
    "            raw_train_y = df[(df.jail_entry >= train_label_start_time) & (df.jail_entry <= train_label_end_time)]\n",
    "            raw_test_X = df[(df.jail_entry >= test_features_start_time) & (df.jail_entry <= test_features_end_time)]\n",
    "            raw_test_y = df[(df.jail_entry >= test_label_start_time) & (df.jail_entry <= test_label_end_time)]\n",
    "            \n",
    "            # create the matrices we need\n",
    "            \n",
    "            # ensure that each entity is only represented at the appropriate times\n",
    "            # e.g. B should not appear before 2/2/18\n",
    "            \n",
    "            # fit on train data\n",
    "            # predict on test data\n",
    "            # calculate accuracy\n",
    "            # write results to the results dataframe\n",
    "            \n",
    "        test_label_end_time -= relativedelta(months=+update_window)"
   ]
  },
  {
   "cell_type": "code",
   "execution_count": null,
   "metadata": {},
   "outputs": [],
   "source": []
  },
  {
   "cell_type": "code",
   "execution_count": null,
   "metadata": {},
   "outputs": [],
   "source": []
  }
 ],
 "metadata": {
  "kernelspec": {
   "display_name": "Python 3",
   "language": "python",
   "name": "python3"
  },
  "language_info": {
   "codemirror_mode": {
    "name": "ipython",
    "version": 3
   },
   "file_extension": ".py",
   "mimetype": "text/x-python",
   "name": "python",
   "nbconvert_exporter": "python",
   "pygments_lexer": "ipython3",
   "version": "3.6.2"
  }
 },
 "nbformat": 4,
 "nbformat_minor": 2
}
