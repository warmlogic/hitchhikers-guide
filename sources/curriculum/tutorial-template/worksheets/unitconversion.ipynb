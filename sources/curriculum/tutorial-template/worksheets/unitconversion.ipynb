{
 "metadata": {
  "name": ""
 },
 "nbformat": 3,
 "nbformat_minor": 0,
 "worksheets": [
  {
   "cells": [
    {
     "cell_type": "markdown",
     "metadata": {},
     "source": [
      "# Making Meringues: Unit Conversion\n",
      "\n",
      "Meringues are a traditionally French dish. Many recipes might include metric units such as _Celsius_ or _grams_. For historical reasons, we might need to convert these to the antiquated _Fahrenheit_ and _ounces_ when baking in the United States."
     ]
    },
    {
     "cell_type": "markdown",
     "metadata": {},
     "source": [
      "## Task 1: Write a function that converts grams to ounces.\n",
      "\n",
      "For our purposes, one ounce equals 28.3 grams."
     ]
    },
    {
     "cell_type": "code",
     "collapsed": false,
     "input": [
      "# define your function here"
     ],
     "language": "python",
     "metadata": {},
     "outputs": [],
     "prompt_number": 1
    }
   ],
   "metadata": {}
  }
 ]
}