{
 "metadata": {
  "name": ""
 },
 "nbformat": 3,
 "nbformat_minor": 0,
 "worksheets": [
  {
   "cells": [
    {
     "cell_type": "markdown",
     "metadata": {},
     "source": [
      "# Making Meringues: Unit Conversion\n",
      "\n",
      "Meringues are a traditionally French dish. Many recipes might include metric units such as _Celsius_ or _grams_. For historical reasons, we might need to convert these to the antiquated _Fahrenheit_ and _ounces_ when baking in the United States."
     ]
    },
    {
     "cell_type": "markdown",
     "metadata": {},
     "source": [
      "## Task 1: Write a function that converts grams to ounces.\n",
      "\n",
      "For our purposes, one ounce equals 28.35 grams."
     ]
    },
    {
     "cell_type": "code",
     "collapsed": false,
     "input": [
      "# define your function here\n",
      "def ounces_to_grams(x):\n",
      "    return x*28.35"
     ],
     "language": "python",
     "metadata": {},
     "outputs": [],
     "prompt_number": 7
    }
   ],
   "metadata": {}
  }
 ]
}