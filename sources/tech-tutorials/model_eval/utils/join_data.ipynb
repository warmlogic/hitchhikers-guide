{
 "cells": [
  {
   "cell_type": "code",
   "execution_count": 7,
   "metadata": {
    "collapsed": true
   },
   "outputs": [],
   "source": [
    "import pandas as pd\n",
    "import numpy as np"
   ]
  },
  {
   "cell_type": "code",
   "execution_count": 16,
   "metadata": {
    "collapsed": false
   },
   "outputs": [],
   "source": [
    "# entities \n",
    "n = 500\n",
    "df = pd.DataFrame()\n",
    "ids = np.arange(n)\n",
    "np.random.shuffle(ids)"
   ]
  },
  {
   "cell_type": "code",
   "execution_count": 17,
   "metadata": {
    "collapsed": false
   },
   "outputs": [],
   "source": [
    "# make data for static feature\n",
    "gender = np.random.binomial(1, 0.6, len(ids))\n",
    "gender = pd.DataFrame(index=ids, data=gender, columns=['gender_female'])\n",
    "gender.loc[np.random.choice(ids, size=int(len(ids)*.05))] = pd.np.nan\n",
    "gender.to_csv('../2_crossval/label_join/gender_female.csv', index_label='entity_id')"
   ]
  },
  {
   "cell_type": "code",
   "execution_count": 18,
   "metadata": {
    "collapsed": false
   },
   "outputs": [],
   "source": [
    "# make data for temporal feature\n",
    "date_range = pd.date_range(start='2014-01-01', end='2017-01-01', freq='W')\n",
    "multiindex = pd.MultiIndex.from_product([ids, date_range])\n",
    "timesheet = pd.DataFrame(index=multiindex, columns=['hours'])\n",
    "timesheet['hours'] = np.random.randint(low=0, high=60, size=len(timesheet))\n",
    "\n",
    "# drop some random rows\n",
    "timesheet = timesheet.iloc[np.random.choice(range(len(timesheet)), replace=False, size=int(len(timesheet)*.8))]\n",
    "\n",
    "timesheet.to_csv('../2_crossval/label_join/timesheet.csv', index_label=['entity_id','date'])"
   ]
  },
  {
   "cell_type": "code",
   "execution_count": 29,
   "metadata": {
    "collapsed": false
   },
   "outputs": [],
   "source": [
    "# make an incident table with entity_id, incident_date, incident_type, decision_date, decision\n",
    "\n",
    "# each entity has between 0 and 50 incidents\n",
    "incidents = pd.DataFrame(\n",
    "                index=np.repeat(ids, repeats=np.random.randint(low=0, high=50, size=len(ids))),\n",
    "                columns=['incident_date', 'incident_type', 'decision_date', 'decision']\n",
    "                )\n",
    "incidents.index.name='entity_id'\n",
    "\n",
    "# incident types are random\n",
    "incidents.incident_type = np.random.choice(['discipline', 'conduct_unbecoming', 'neglect_of_duty', 'other'],\n",
    "                                           size=len(incidents))\n",
    "\n",
    "# incident date is random\n",
    "incidents['incident_date'] = np.random.choice(date_range, size=len(incidents))\n",
    "\n",
    "# decision happens between 1 and 200 days later\n",
    "timedelts = np.array(list(map(lambda x: pd.Timedelta(x, 'd'), np.random.randint(1,200,size=len(incidents))) ))\n",
    "incidents['decision_date'] = incidents['incident_date'] + timedelts\n",
    "\n",
    "# make some decision dates unknown\n",
    "incidents.loc[incidents.decision_date > pd.to_datetime('2017-01-01'),'decision_date'] = pd.np.nan\n",
    "incidents.iloc[np.random.choice(range(len(incidents)), size=int(len(incidents)*0.1)), 2] = pd.np.nan\n",
    "\n",
    "# decisions are random\n",
    "incidents['decision'] = np.random.choice(['dismissed','sustained','lack_of_evidence'], size=len(incidents))\n",
    "incidents.loc[incidents.decision_date.isnull(), 'decision'] = pd.np.nan\n",
    "\n",
    "incidents = incidents.sort_values(by='incident_date')\n",
    "\n",
    "incidents.to_csv('../2_crossval/label_join/incidents.csv', index_label=['entity_id'])"
   ]
  },
  {
   "cell_type": "code",
   "execution_count": 20,
   "metadata": {
    "collapsed": false
   },
   "outputs": [
    {
     "data": {
      "text/plain": [
       "'/home/bene/DSaPP/hitchhikers-guide/tech-tutorials/model_eval/utils'"
      ]
     },
     "execution_count": 20,
     "metadata": {},
     "output_type": "execute_result"
    }
   ],
   "source": [
    "pwd"
   ]
  },
  {
   "cell_type": "code",
   "execution_count": 21,
   "metadata": {
    "collapsed": false
   },
   "outputs": [],
   "source": [
    "# status table that lists start and end of engagement\n",
    "patrol_duty = pd.DataFrame(index=ids, columns=['start_date','end_date'])\n",
    "\n",
    "patrol_duty['start_date'] = np.random.choice(date_range, size=len(patrol_duty))\n",
    "\n",
    "timedelts = np.array(list(map(lambda x: pd.Timedelta(x, 'd'), np.random.randint(1,720,size=len(patrol_duty))) ))\n",
    "patrol_duty['end_date'] = patrol_duty['start_date'] + timedelts\n",
    "\n",
    "patrol_duty.loc[patrol_duty.end_date>pd.to_datetime('2017-01-01'),'end_date'] = pd.np.nan\n",
    "\n",
    "# drop some rows\n",
    "patrol_duty = patrol_duty.iloc[np.random.choice(range(len(patrol_duty)), replace=False, size=int(len(patrol_duty)*.8))]\n",
    "\n",
    "patrol_duty = patrol_duty.sort_index()\n",
    "\n",
    "patrol_duty.to_csv('../2_crossval/label_join/patrol_duty.csv', index_label='entity_id')"
   ]
  }
 ],
 "metadata": {
  "kernelspec": {
   "display_name": "Python 3",
   "language": "python",
   "name": "python3"
  },
  "language_info": {
   "codemirror_mode": {
    "name": "ipython",
    "version": 3
   },
   "file_extension": ".py",
   "mimetype": "text/x-python",
   "name": "python",
   "nbconvert_exporter": "python",
   "pygments_lexer": "ipython3",
   "version": "3.5.1"
  }
 },
 "nbformat": 4,
 "nbformat_minor": 0
}
