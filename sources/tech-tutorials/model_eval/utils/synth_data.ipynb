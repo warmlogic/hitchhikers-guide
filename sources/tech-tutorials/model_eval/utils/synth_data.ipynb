{
 "cells": [
  {
   "cell_type": "markdown",
   "metadata": {},
   "source": [
    "# Let's create some simple fake data"
   ]
  },
  {
   "cell_type": "code",
   "execution_count": 1,
   "metadata": {
    "collapsed": false
   },
   "outputs": [],
   "source": [
    "import numpy as np\n",
    "import pandas as pd\n",
    "import matplotlib\n",
    "%matplotlib inline\n",
    "from sklearn.ensemble import RandomForestClassifier\n",
    "from sklearn.metrics import roc_curve, auc\n",
    "import matplotlib.pyplot as plt"
   ]
  },
  {
   "cell_type": "markdown",
   "metadata": {},
   "source": [
    "## For the Crosstabs Example"
   ]
  },
  {
   "cell_type": "markdown",
   "metadata": {},
   "source": [
    "Let's generate some fake data:"
   ]
  },
  {
   "cell_type": "code",
   "execution_count": 2,
   "metadata": {
    "collapsed": false
   },
   "outputs": [],
   "source": [
    "def gimme_data():\n",
    "    \n",
    "    n = 500\n",
    "    k = 100\n",
    "    df = pd.DataFrame()\n",
    "    ids = np.arange(n)\n",
    "    np.random.shuffle(ids)\n",
    "    df['entity_id'] = ids\n",
    "    \n",
    "    # ===== Underlying features ====== \n",
    "    \n",
    "    # age is random\n",
    "    df['age'] = np.random.randn(len(df)) * 15 + 45\n",
    "    df.loc[df.age<0,'age'] = 1.0\n",
    "    \n",
    "    # gender is random\n",
    "    df['gender_female'] = np.random.binomial(1, 0.6, len(df))\n",
    "    \n",
    "    # incident rate is random, but bi-modal\n",
    "    switch = (np.random.randn(len(df)) > 0.2).astype(float)\n",
    "    df['incident_rate'] = np.random.beta(5,2,len(df)) * switch + np.random.beta(1,5,len(df)) * (1-switch)\n",
    "    \n",
    "    # some people have a rare mutation\n",
    "    df['random_feature_1'] = (np.random.randn(len(df)) > .5).astype(float)\n",
    "    \n",
    "    # ====== Actual risk ======\n",
    "    \n",
    "    # we have a latent score that determines actual risk\n",
    "    df['latent_score'] = 0\n",
    "\n",
    "    # every 30 years of age adds a risk point\n",
    "    df.loc[:,'latent_score'] += df['age'] / 30\n",
    "\n",
    "    # being male adds 1 risk points\n",
    "    df.loc[df.gender_female==0, 'latent_score'] = df.loc[df.gender_female==0, 'latent_score'] + 2\n",
    "\n",
    "    # incident rate * 2 for risk\n",
    "    df['latent_score'] = df['latent_score'] + df['incident_rate'] * 2\n",
    "\n",
    "    # if you're young, female, and have the rare mutation, you're at very high risk\n",
    "    small_group = (df.age<25)&(df.gender_female==1)&(df.random_feature_1==1)\n",
    "    df.loc[small_group, 'latent_score'] = df.loc[small_group, 'latent_score'] + 25\n",
    "\n",
    "    # remember a cutoff - above this, you're positive (90th percentile)\n",
    "    cutoff = np.percentile(df.latent_score, q=90)\n",
    "\n",
    "    # make some noooooise\n",
    "    df['latent_score'] = df['latent_score'] + np.random.randn(len(df)) * 1\n",
    "    \n",
    "    # convert latent score to true label\n",
    "    df['true_label'] = df['latent_score'] > cutoff\n",
    "    del df['latent_score']\n",
    "    \n",
    "    # ===== Distracting Features =====\n",
    "    \n",
    "    for idx in range(2, 15):\n",
    "        df['random_feature_%d'%idx] = ((np.random.randn(len(df)) * np.random.rand()*5 + np.random.randn()*5) > 2).astype(float)\n",
    "        \n",
    "    # some binary ones\n",
    "    for idx in range(16, 30):\n",
    "        df['random_feature_%d'%idx] = np.random.randn(len(df)) * np.random.rand()*5 + np.random.randn()*5\n",
    "        \n",
    "    # some boring correlates of age\n",
    "    for idx in range(31, 60):\n",
    "        df['random_feature_%d'%idx] = df['age'] + np.random.rand()*20 + np.random.rand()*100 +\\\n",
    "                                                  np.random.randn(len(df))*10\n",
    "    # some boring correlates of gender\n",
    "    for idx in range(61, 90):\n",
    "        df['random_feature_%d'%idx] = df['gender_female'] + np.random.randn(len(df)) * np.random.rand()*5\n",
    "        \n",
    "    df = df[['entity_id','age','gender_female','incident_rate','true_label'] + \n",
    "            [c for c in df.columns if c.startswith('random')]]\n",
    "        \n",
    "    return df"
   ]
  },
  {
   "cell_type": "markdown",
   "metadata": {},
   "source": [
    "#### Generate train and test set"
   ]
  },
  {
   "cell_type": "code",
   "execution_count": 3,
   "metadata": {
    "collapsed": false
   },
   "outputs": [],
   "source": [
    "train = gimme_data()\n",
    "test = gimme_data()"
   ]
  },
  {
   "cell_type": "code",
   "execution_count": 4,
   "metadata": {
    "collapsed": false
   },
   "outputs": [
    {
     "data": {
      "text/plain": [
       "False    441\n",
       "True      59\n",
       "Name: true_label, dtype: int64"
      ]
     },
     "execution_count": 4,
     "metadata": {},
     "output_type": "execute_result"
    }
   ],
   "source": [
    "train.true_label.value_counts()"
   ]
  },
  {
   "cell_type": "code",
   "execution_count": 5,
   "metadata": {
    "collapsed": false
   },
   "outputs": [
    {
     "data": {
      "text/plain": [
       "False    434\n",
       "True      66\n",
       "Name: true_label, dtype: int64"
      ]
     },
     "execution_count": 5,
     "metadata": {},
     "output_type": "execute_result"
    }
   ],
   "source": [
    "test.true_label.value_counts()"
   ]
  },
  {
   "cell_type": "markdown",
   "metadata": {},
   "source": [
    "#### Let's see if the interaction term made it through:"
   ]
  },
  {
   "cell_type": "code",
   "execution_count": 6,
   "metadata": {
    "collapsed": false
   },
   "outputs": [
    {
     "data": {
      "text/plain": [
       "True    12\n",
       "Name: true_label, dtype: int64"
      ]
     },
     "execution_count": 6,
     "metadata": {},
     "output_type": "execute_result"
    }
   ],
   "source": [
    "small_group = (train.age<25)&(train.gender_female==1)&(train.random_feature_1==1)\n",
    "train[small_group].true_label.value_counts()"
   ]
  },
  {
   "cell_type": "code",
   "execution_count": 7,
   "metadata": {
    "collapsed": false
   },
   "outputs": [
    {
     "data": {
      "text/plain": [
       "True    11\n",
       "Name: true_label, dtype: int64"
      ]
     },
     "execution_count": 7,
     "metadata": {},
     "output_type": "execute_result"
    }
   ],
   "source": [
    "small_group = (test.age<25)&(test.gender_female==1)&(test.random_feature_1==1)\n",
    "test[small_group].true_label.value_counts()"
   ]
  },
  {
   "cell_type": "markdown",
   "metadata": {},
   "source": [
    "Yup!"
   ]
  },
  {
   "cell_type": "markdown",
   "metadata": {},
   "source": [
    "### Fit and Predict with an RF"
   ]
  },
  {
   "cell_type": "code",
   "execution_count": 8,
   "metadata": {
    "collapsed": false
   },
   "outputs": [
    {
     "data": {
      "text/plain": [
       "RandomForestClassifier(bootstrap=True, class_weight=None, criterion='gini',\n",
       "            max_depth=None, max_features='auto', max_leaf_nodes=None,\n",
       "            min_impurity_split=1e-07, min_samples_leaf=1,\n",
       "            min_samples_split=2, min_weight_fraction_leaf=0.0,\n",
       "            n_estimators=200, n_jobs=1, oob_score=False, random_state=None,\n",
       "            verbose=0, warm_start=False)"
      ]
     },
     "execution_count": 8,
     "metadata": {},
     "output_type": "execute_result"
    }
   ],
   "source": [
    "rf = RandomForestClassifier(n_estimators=200)\n",
    "rf.fit(X=train.drop(['entity_id','true_label'],1),\n",
    "       y=train['true_label'])"
   ]
  },
  {
   "cell_type": "code",
   "execution_count": 9,
   "metadata": {
    "collapsed": false
   },
   "outputs": [],
   "source": [
    "preds = rf.predict_proba(test.drop(['entity_id','true_label'],1))"
   ]
  },
  {
   "cell_type": "markdown",
   "metadata": {},
   "source": [
    "#### Just making sure that the RF can do something sensible: "
   ]
  },
  {
   "cell_type": "code",
   "execution_count": 10,
   "metadata": {
    "collapsed": false
   },
   "outputs": [],
   "source": [
    "fpr, tpr, _ = roc_curve(y_true=test.true_label, y_score=preds[:,1])"
   ]
  },
  {
   "cell_type": "code",
   "execution_count": 11,
   "metadata": {
    "collapsed": false
   },
   "outputs": [],
   "source": [
    "roc_auc = auc(fpr, tpr)"
   ]
  },
  {
   "cell_type": "code",
   "execution_count": 12,
   "metadata": {
    "collapsed": false
   },
   "outputs": [
    {
     "data": {
      "image/png": "[encoded data removed]",
      "text/plain": [
       "<matplotlib.figure.Figure at 0x7fc0649a0f60>"
      ]
     },
     "metadata": {},
     "output_type": "display_data"
    }
   ],
   "source": [
    "plt.figure()\n",
    "lw = 2\n",
    "plt.plot(fpr, tpr, color='darkorange',\n",
    "         lw=lw, label='ROC curve (area = %0.2f)' % roc_auc)\n",
    "plt.plot([0, 1], [0, 1], color='navy', lw=lw, linestyle='--')\n",
    "plt.xlim([0.0, 1.0])\n",
    "plt.ylim([0.0, 1.05])\n",
    "plt.xlabel('False Positive Rate')\n",
    "plt.ylabel('True Positive Rate')\n",
    "plt.title('Receiver operating characteristic example')\n",
    "plt.legend(loc=\"lower right\")\n",
    "plt.show()"
   ]
  },
  {
   "cell_type": "markdown",
   "metadata": {},
   "source": [
    "Looking alright."
   ]
  },
  {
   "cell_type": "code",
   "execution_count": 13,
   "metadata": {
    "collapsed": false
   },
   "outputs": [],
   "source": [
    "test['score'] = preds[:,1]"
   ]
  },
  {
   "cell_type": "code",
   "execution_count": 14,
   "metadata": {
    "collapsed": true
   },
   "outputs": [],
   "source": [
    "test = test.sort_values(by='score', ascending=False)"
   ]
  },
  {
   "cell_type": "code",
   "execution_count": 15,
   "metadata": {
    "collapsed": false
   },
   "outputs": [
    {
     "data": {
      "text/html": [
       "<div>\n",
       "<table border=\"1\" class=\"dataframe\">\n",
       "  <thead>\n",
       "    <tr style=\"text-align: right;\">\n",
       "      <th></th>\n",
       "      <th>entity_id</th>\n",
       "      <th>age</th>\n",
       "      <th>gender_female</th>\n",
       "      <th>incident_rate</th>\n",
       "      <th>true_label</th>\n",
       "      <th>random_feature_1</th>\n",
       "      <th>random_feature_2</th>\n",
       "      <th>random_feature_3</th>\n",
       "      <th>random_feature_4</th>\n",
       "      <th>random_feature_5</th>\n",
       "      <th>...</th>\n",
       "      <th>random_feature_81</th>\n",
       "      <th>random_feature_82</th>\n",
       "      <th>random_feature_83</th>\n",
       "      <th>random_feature_84</th>\n",
       "      <th>random_feature_85</th>\n",
       "      <th>random_feature_86</th>\n",
       "      <th>random_feature_87</th>\n",
       "      <th>random_feature_88</th>\n",
       "      <th>random_feature_89</th>\n",
       "      <th>score</th>\n",
       "    </tr>\n",
       "  </thead>\n",
       "  <tbody>\n",
       "    <tr>\n",
       "      <th>465</th>\n",
       "      <td>478</td>\n",
       "      <td>63.227958</td>\n",
       "      <td>0</td>\n",
       "      <td>0.818133</td>\n",
       "      <td>True</td>\n",
       "      <td>0.0</td>\n",
       "      <td>1.0</td>\n",
       "      <td>0.0</td>\n",
       "      <td>1.0</td>\n",
       "      <td>1.0</td>\n",
       "      <td>...</td>\n",
       "      <td>-1.766104</td>\n",
       "      <td>4.528153</td>\n",
       "      <td>-0.402657</td>\n",
       "      <td>-0.284959</td>\n",
       "      <td>2.653418</td>\n",
       "      <td>2.360303</td>\n",
       "      <td>10.957686</td>\n",
       "      <td>3.624214</td>\n",
       "      <td>0.276944</td>\n",
       "      <td>0.615</td>\n",
       "    </tr>\n",
       "    <tr>\n",
       "      <th>180</th>\n",
       "      <td>174</td>\n",
       "      <td>66.557592</td>\n",
       "      <td>0</td>\n",
       "      <td>0.412870</td>\n",
       "      <td>False</td>\n",
       "      <td>0.0</td>\n",
       "      <td>0.0</td>\n",
       "      <td>0.0</td>\n",
       "      <td>0.0</td>\n",
       "      <td>0.0</td>\n",
       "      <td>...</td>\n",
       "      <td>0.808632</td>\n",
       "      <td>2.705668</td>\n",
       "      <td>-0.495744</td>\n",
       "      <td>-0.390279</td>\n",
       "      <td>0.966705</td>\n",
       "      <td>-3.702808</td>\n",
       "      <td>-2.249557</td>\n",
       "      <td>0.864319</td>\n",
       "      <td>-0.984309</td>\n",
       "      <td>0.585</td>\n",
       "    </tr>\n",
       "    <tr>\n",
       "      <th>397</th>\n",
       "      <td>192</td>\n",
       "      <td>81.583693</td>\n",
       "      <td>0</td>\n",
       "      <td>0.354826</td>\n",
       "      <td>False</td>\n",
       "      <td>1.0</td>\n",
       "      <td>0.0</td>\n",
       "      <td>0.0</td>\n",
       "      <td>1.0</td>\n",
       "      <td>0.0</td>\n",
       "      <td>...</td>\n",
       "      <td>-3.531336</td>\n",
       "      <td>-6.141112</td>\n",
       "      <td>-1.981490</td>\n",
       "      <td>-0.471732</td>\n",
       "      <td>0.057509</td>\n",
       "      <td>1.610588</td>\n",
       "      <td>2.705318</td>\n",
       "      <td>2.498322</td>\n",
       "      <td>0.766655</td>\n",
       "      <td>0.580</td>\n",
       "    </tr>\n",
       "    <tr>\n",
       "      <th>215</th>\n",
       "      <td>15</td>\n",
       "      <td>57.108930</td>\n",
       "      <td>0</td>\n",
       "      <td>0.527284</td>\n",
       "      <td>False</td>\n",
       "      <td>0.0</td>\n",
       "      <td>0.0</td>\n",
       "      <td>0.0</td>\n",
       "      <td>1.0</td>\n",
       "      <td>0.0</td>\n",
       "      <td>...</td>\n",
       "      <td>-1.400378</td>\n",
       "      <td>4.954661</td>\n",
       "      <td>0.156229</td>\n",
       "      <td>-0.321477</td>\n",
       "      <td>-1.323733</td>\n",
       "      <td>0.830541</td>\n",
       "      <td>-1.726930</td>\n",
       "      <td>11.488804</td>\n",
       "      <td>1.389767</td>\n",
       "      <td>0.575</td>\n",
       "    </tr>\n",
       "    <tr>\n",
       "      <th>368</th>\n",
       "      <td>142</td>\n",
       "      <td>51.996117</td>\n",
       "      <td>0</td>\n",
       "      <td>0.768863</td>\n",
       "      <td>True</td>\n",
       "      <td>0.0</td>\n",
       "      <td>1.0</td>\n",
       "      <td>0.0</td>\n",
       "      <td>1.0</td>\n",
       "      <td>1.0</td>\n",
       "      <td>...</td>\n",
       "      <td>-3.840975</td>\n",
       "      <td>0.122851</td>\n",
       "      <td>-1.033036</td>\n",
       "      <td>0.071066</td>\n",
       "      <td>-4.006721</td>\n",
       "      <td>-3.869528</td>\n",
       "      <td>5.631649</td>\n",
       "      <td>3.828006</td>\n",
       "      <td>0.996846</td>\n",
       "      <td>0.565</td>\n",
       "    </tr>\n",
       "    <tr>\n",
       "      <th>104</th>\n",
       "      <td>126</td>\n",
       "      <td>57.526542</td>\n",
       "      <td>0</td>\n",
       "      <td>0.898845</td>\n",
       "      <td>True</td>\n",
       "      <td>0.0</td>\n",
       "      <td>0.0</td>\n",
       "      <td>0.0</td>\n",
       "      <td>1.0</td>\n",
       "      <td>0.0</td>\n",
       "      <td>...</td>\n",
       "      <td>-1.693623</td>\n",
       "      <td>1.874155</td>\n",
       "      <td>-1.421506</td>\n",
       "      <td>-0.204338</td>\n",
       "      <td>3.209767</td>\n",
       "      <td>-1.363325</td>\n",
       "      <td>-2.548176</td>\n",
       "      <td>-5.714439</td>\n",
       "      <td>-1.685581</td>\n",
       "      <td>0.565</td>\n",
       "    </tr>\n",
       "    <tr>\n",
       "      <th>328</th>\n",
       "      <td>375</td>\n",
       "      <td>44.509787</td>\n",
       "      <td>0</td>\n",
       "      <td>0.586849</td>\n",
       "      <td>False</td>\n",
       "      <td>0.0</td>\n",
       "      <td>0.0</td>\n",
       "      <td>0.0</td>\n",
       "      <td>1.0</td>\n",
       "      <td>1.0</td>\n",
       "      <td>...</td>\n",
       "      <td>-0.501809</td>\n",
       "      <td>3.066686</td>\n",
       "      <td>-0.485009</td>\n",
       "      <td>0.100575</td>\n",
       "      <td>3.096863</td>\n",
       "      <td>0.061533</td>\n",
       "      <td>-2.806147</td>\n",
       "      <td>-2.001836</td>\n",
       "      <td>-1.398406</td>\n",
       "      <td>0.565</td>\n",
       "    </tr>\n",
       "    <tr>\n",
       "      <th>99</th>\n",
       "      <td>370</td>\n",
       "      <td>67.807486</td>\n",
       "      <td>0</td>\n",
       "      <td>0.561012</td>\n",
       "      <td>False</td>\n",
       "      <td>0.0</td>\n",
       "      <td>0.0</td>\n",
       "      <td>0.0</td>\n",
       "      <td>1.0</td>\n",
       "      <td>0.0</td>\n",
       "      <td>...</td>\n",
       "      <td>1.671493</td>\n",
       "      <td>4.571253</td>\n",
       "      <td>0.137551</td>\n",
       "      <td>-0.379693</td>\n",
       "      <td>2.269276</td>\n",
       "      <td>-4.799680</td>\n",
       "      <td>5.481302</td>\n",
       "      <td>-4.811187</td>\n",
       "      <td>2.561597</td>\n",
       "      <td>0.560</td>\n",
       "    </tr>\n",
       "    <tr>\n",
       "      <th>225</th>\n",
       "      <td>41</td>\n",
       "      <td>65.159263</td>\n",
       "      <td>0</td>\n",
       "      <td>0.673079</td>\n",
       "      <td>False</td>\n",
       "      <td>0.0</td>\n",
       "      <td>0.0</td>\n",
       "      <td>0.0</td>\n",
       "      <td>1.0</td>\n",
       "      <td>0.0</td>\n",
       "      <td>...</td>\n",
       "      <td>-1.037459</td>\n",
       "      <td>1.810626</td>\n",
       "      <td>-0.490970</td>\n",
       "      <td>-0.545345</td>\n",
       "      <td>-1.355171</td>\n",
       "      <td>-0.018782</td>\n",
       "      <td>6.332184</td>\n",
       "      <td>-2.682034</td>\n",
       "      <td>2.491792</td>\n",
       "      <td>0.560</td>\n",
       "    </tr>\n",
       "    <tr>\n",
       "      <th>198</th>\n",
       "      <td>37</td>\n",
       "      <td>55.379742</td>\n",
       "      <td>0</td>\n",
       "      <td>0.923638</td>\n",
       "      <td>True</td>\n",
       "      <td>0.0</td>\n",
       "      <td>0.0</td>\n",
       "      <td>1.0</td>\n",
       "      <td>1.0</td>\n",
       "      <td>0.0</td>\n",
       "      <td>...</td>\n",
       "      <td>-0.416719</td>\n",
       "      <td>1.484297</td>\n",
       "      <td>1.548530</td>\n",
       "      <td>-0.031410</td>\n",
       "      <td>-1.359145</td>\n",
       "      <td>-0.330880</td>\n",
       "      <td>-0.239769</td>\n",
       "      <td>-6.869188</td>\n",
       "      <td>-2.498499</td>\n",
       "      <td>0.560</td>\n",
       "    </tr>\n",
       "  </tbody>\n",
       "</table>\n",
       "<p>10 rows × 92 columns</p>\n",
       "</div>"
      ],
      "text/plain": [
       "     entity_id        age  gender_female  incident_rate true_label  \\\n",
       "465        478  63.227958              0       0.818133       True   \n",
       "180        174  66.557592              0       0.412870      False   \n",
       "397        192  81.583693              0       0.354826      False   \n",
       "215         15  57.108930              0       0.527284      False   \n",
       "368        142  51.996117              0       0.768863       True   \n",
       "104        126  57.526542              0       0.898845       True   \n",
       "328        375  44.509787              0       0.586849      False   \n",
       "99         370  67.807486              0       0.561012      False   \n",
       "225         41  65.159263              0       0.673079      False   \n",
       "198         37  55.379742              0       0.923638       True   \n",
       "\n",
       "     random_feature_1  random_feature_2  random_feature_3  random_feature_4  \\\n",
       "465               0.0               1.0               0.0               1.0   \n",
       "180               0.0               0.0               0.0               0.0   \n",
       "397               1.0               0.0               0.0               1.0   \n",
       "215               0.0               0.0               0.0               1.0   \n",
       "368               0.0               1.0               0.0               1.0   \n",
       "104               0.0               0.0               0.0               1.0   \n",
       "328               0.0               0.0               0.0               1.0   \n",
       "99                0.0               0.0               0.0               1.0   \n",
       "225               0.0               0.0               0.0               1.0   \n",
       "198               0.0               0.0               1.0               1.0   \n",
       "\n",
       "     random_feature_5  ...    random_feature_81  random_feature_82  \\\n",
       "465               1.0  ...            -1.766104           4.528153   \n",
       "180               0.0  ...             0.808632           2.705668   \n",
       "397               0.0  ...            -3.531336          -6.141112   \n",
       "215               0.0  ...            -1.400378           4.954661   \n",
       "368               1.0  ...            -3.840975           0.122851   \n",
       "104               0.0  ...            -1.693623           1.874155   \n",
       "328               1.0  ...            -0.501809           3.066686   \n",
       "99                0.0  ...             1.671493           4.571253   \n",
       "225               0.0  ...            -1.037459           1.810626   \n",
       "198               0.0  ...            -0.416719           1.484297   \n",
       "\n",
       "     random_feature_83  random_feature_84  random_feature_85  \\\n",
       "465          -0.402657          -0.284959           2.653418   \n",
       "180          -0.495744          -0.390279           0.966705   \n",
       "397          -1.981490          -0.471732           0.057509   \n",
       "215           0.156229          -0.321477          -1.323733   \n",
       "368          -1.033036           0.071066          -4.006721   \n",
       "104          -1.421506          -0.204338           3.209767   \n",
       "328          -0.485009           0.100575           3.096863   \n",
       "99            0.137551          -0.379693           2.269276   \n",
       "225          -0.490970          -0.545345          -1.355171   \n",
       "198           1.548530          -0.031410          -1.359145   \n",
       "\n",
       "     random_feature_86  random_feature_87  random_feature_88  \\\n",
       "465           2.360303          10.957686           3.624214   \n",
       "180          -3.702808          -2.249557           0.864319   \n",
       "397           1.610588           2.705318           2.498322   \n",
       "215           0.830541          -1.726930          11.488804   \n",
       "368          -3.869528           5.631649           3.828006   \n",
       "104          -1.363325          -2.548176          -5.714439   \n",
       "328           0.061533          -2.806147          -2.001836   \n",
       "99           -4.799680           5.481302          -4.811187   \n",
       "225          -0.018782           6.332184          -2.682034   \n",
       "198          -0.330880          -0.239769          -6.869188   \n",
       "\n",
       "     random_feature_89  score  \n",
       "465           0.276944  0.615  \n",
       "180          -0.984309  0.585  \n",
       "397           0.766655  0.580  \n",
       "215           1.389767  0.575  \n",
       "368           0.996846  0.565  \n",
       "104          -1.685581  0.565  \n",
       "328          -1.398406  0.565  \n",
       "99            2.561597  0.560  \n",
       "225           2.491792  0.560  \n",
       "198          -2.498499  0.560  \n",
       "\n",
       "[10 rows x 92 columns]"
      ]
     },
     "execution_count": 15,
     "metadata": {},
     "output_type": "execute_result"
    }
   ],
   "source": [
    "test.head(10)"
   ]
  },
  {
   "cell_type": "markdown",
   "metadata": {},
   "source": [
    "But didn't pick up on the interaction term."
   ]
  },
  {
   "cell_type": "code",
   "execution_count": 16,
   "metadata": {
    "collapsed": false
   },
   "outputs": [],
   "source": [
    "# rearrange columns a bit\n",
    "test = test[['entity_id','true_label','score'] + [c for c in test.columns if c not in ['entity_id','true_label','score']]]"
   ]
  },
  {
   "cell_type": "code",
   "execution_count": 31,
   "metadata": {
    "collapsed": true
   },
   "outputs": [],
   "source": [
    "test.to_csv('test_data.csv', index=False)"
   ]
  },
  {
   "cell_type": "markdown",
   "metadata": {},
   "source": [
    "### For the bias exercise"
   ]
  },
  {
   "cell_type": "code",
   "execution_count": 21,
   "metadata": {
    "collapsed": false
   },
   "outputs": [],
   "source": [
    "test[['entity_id','score','true_label','gender_female','age']].to_csv('bias_exercise.csv',index=False)"
   ]
  }
 ],
 "metadata": {
  "kernelspec": {
   "display_name": "Python 3",
   "language": "python",
   "name": "python3"
  },
  "language_info": {
   "codemirror_mode": {
    "name": "ipython",
    "version": 3
   },
   "file_extension": ".py",
   "mimetype": "text/x-python",
   "name": "python",
   "nbconvert_exporter": "python",
   "pygments_lexer": "ipython3",
   "version": "3.5.1"
  }
 },
 "nbformat": 4,
 "nbformat_minor": 0
}
